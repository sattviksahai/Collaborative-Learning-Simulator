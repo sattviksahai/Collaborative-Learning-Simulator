{
 "cells": [
  {
   "cell_type": "markdown",
   "metadata": {},
   "source": [
    "## Example Experiment ##\n",
    "#### Dataset: Labeled Faces in the Wild ####\n",
    "#### Experiment: (Experiment 3) Two party passive property inference attack ####\n",
    "#### Details: ####\n",
    "Training Task: Gender Classification <br />\n",
    "Inference Property: Eyeglasses <br />\n",
    "One of the workers is malicious and the other is the target of the attack"
   ]
  },
  {
   "cell_type": "code",
   "execution_count": 1,
   "metadata": {},
   "outputs": [
    {
     "name": "stderr",
     "output_type": "stream",
     "text": [
      "/home/sattvik/envs/pytorch_env/lib/python3.6/site-packages/tensorboard/compat/tensorflow_stub/dtypes.py:541: FutureWarning: Passing (type, 1) or '1type' as a synonym of type is deprecated; in a future version of numpy, it will be understood as (type, (1,)) / '(1,)type'.\n",
      "  _np_qint8 = np.dtype([(\"qint8\", np.int8, 1)])\n",
      "/home/sattvik/envs/pytorch_env/lib/python3.6/site-packages/tensorboard/compat/tensorflow_stub/dtypes.py:542: FutureWarning: Passing (type, 1) or '1type' as a synonym of type is deprecated; in a future version of numpy, it will be understood as (type, (1,)) / '(1,)type'.\n",
      "  _np_quint8 = np.dtype([(\"quint8\", np.uint8, 1)])\n",
      "/home/sattvik/envs/pytorch_env/lib/python3.6/site-packages/tensorboard/compat/tensorflow_stub/dtypes.py:543: FutureWarning: Passing (type, 1) or '1type' as a synonym of type is deprecated; in a future version of numpy, it will be understood as (type, (1,)) / '(1,)type'.\n",
      "  _np_qint16 = np.dtype([(\"qint16\", np.int16, 1)])\n",
      "/home/sattvik/envs/pytorch_env/lib/python3.6/site-packages/tensorboard/compat/tensorflow_stub/dtypes.py:544: FutureWarning: Passing (type, 1) or '1type' as a synonym of type is deprecated; in a future version of numpy, it will be understood as (type, (1,)) / '(1,)type'.\n",
      "  _np_quint16 = np.dtype([(\"quint16\", np.uint16, 1)])\n",
      "/home/sattvik/envs/pytorch_env/lib/python3.6/site-packages/tensorboard/compat/tensorflow_stub/dtypes.py:545: FutureWarning: Passing (type, 1) or '1type' as a synonym of type is deprecated; in a future version of numpy, it will be understood as (type, (1,)) / '(1,)type'.\n",
      "  _np_qint32 = np.dtype([(\"qint32\", np.int32, 1)])\n",
      "/home/sattvik/envs/pytorch_env/lib/python3.6/site-packages/tensorboard/compat/tensorflow_stub/dtypes.py:550: FutureWarning: Passing (type, 1) or '1type' as a synonym of type is deprecated; in a future version of numpy, it will be understood as (type, (1,)) / '(1,)type'.\n",
      "  np_resource = np.dtype([(\"resource\", np.ubyte, 1)])\n"
     ]
    }
   ],
   "source": [
    "import simulator.server as server\n",
    "import simulator.workerclass as worker\n",
    "import simulator.workerhandler as wh\n",
    "import topology_utils as tu\n",
    "\n",
    "from collections import OrderedDict\n",
    "import pandas as pd\n",
    "import numpy as np\n",
    "import copy\n",
    "import os\n",
    "import shutil\n",
    "from PIL import Image\n",
    "import matplotlib.pyplot as plt\n",
    "from pathlib import Path\n",
    "from tqdm import tqdm_notebook\n",
    "%matplotlib inline\n",
    "\n",
    "import torch\n",
    "import torchvision\n",
    "import torch.nn as nn\n",
    "from torch.utils.data import Dataset, DataLoader\n",
    "import torch.optim as optim\n",
    "from torchvision import transforms\n",
    "import torch.nn.functional as F\n",
    "from torch.utils.tensorboard import SummaryWriter"
   ]
  },
  {
   "cell_type": "markdown",
   "metadata": {},
   "source": [
    "## Parameters ##"
   ]
  },
  {
   "cell_type": "code",
   "execution_count": 2,
   "metadata": {},
   "outputs": [],
   "source": [
    "property_inf_epochs = 10\n",
    "attack_epochs = 50\n",
    "# epochs = 2\n",
    "batch_size = 64\n",
    "learning_rate = 0.001\n",
    "server_learning_rate = 0.01\n",
    "num_workers = 2\n",
    "local_iterations = 2\n",
    "\n",
    "inference_property = 'Sunglasses'\n",
    "data_path = '../data/lfw/data/'\n",
    "Path(\"./working_dir\").mkdir(parents=True, exist_ok=True)\n",
    "working_dir = \"./working_dir\"\n",
    "\n",
    "active_steps = [2]\n",
    "\n",
    "# default `log_dir` is \"runs\" - we'll be more specific here\n",
    "!rm -rf ./runs/experiment_3\n",
    "writer = SummaryWriter('runs/experiment_3')"
   ]
  },
  {
   "cell_type": "markdown",
   "metadata": {},
   "source": [
    "## Divide Data between workers ##\n",
    "10% of the data for testing <br />\n",
    "25% of the data for training the property classifier <br />\n",
    "5% of the data for validating the property classifier <br />\n",
    "40% of the data for training <br />\n",
    "20% of the data for validation\n",
    "\n",
    "Special precaution is taken that images of the same person do not end up on multiple data subsets. We also check to ensure that the fraction of datapoints with the inference property is similar in all data subsets."
   ]
  },
  {
   "cell_type": "code",
   "execution_count": 3,
   "metadata": {},
   "outputs": [
    {
     "name": "stdout",
     "output_type": "stream",
     "text": [
      "13143 1867 3771 700 4503 2302 13143\n",
      "0.014912881381724112 0.011783610069630423 0.01617608061522143 0.012857142857142857 0.014656895403064623 0.016507384882710686\n"
     ]
    }
   ],
   "source": [
    "def split_data(df, percentage):\n",
    "    all_names = df.person.unique()\n",
    "    percentage_msk = np.random.rand(len(all_names)) < percentage\n",
    "    percantage_names = all_names[percentage_msk]\n",
    "    remaining_names = all_names[~percentage_msk]\n",
    "    if (len(percantage_names) < 1) or (len(remaining_names)<1):\n",
    "        raise Exception('Impossible split with lengths {} and {}'.format(len(percantage_names), len(remaining_names)))\n",
    "    return df.loc[attributes_df['person'].isin(percantage_names)], df.loc[attributes_df['person'].isin(remaining_names)]\n",
    "\n",
    "def get_property_percentage(df, inference_property):\n",
    "    return len(df[(df[inference_property]>0)])/len(df)\n",
    "\n",
    "attributes_df = pd.read_csv(data_path+'lfw_attributes.txt')\n",
    "\n",
    "test_df, remaining_df = split_data(attributes_df, 0.1)\n",
    "property_train_df, remaining_df = split_data(remaining_df, (0.25/0.9))\n",
    "property_val_df, remaining_df = split_data(remaining_df, (0.05/0.65))\n",
    "train_df, val_df = split_data(remaining_df, (0.4/0.6))\n",
    "\n",
    "print(len(attributes_df), len(test_df), len(property_train_df), len(property_val_df), len(train_df), len(val_df), len(test_df) + len(property_train_df) + len(property_val_df) + len(train_df) + len(val_df))\n",
    "print(get_property_percentage(attributes_df, inference_property),get_property_percentage(test_df, inference_property),get_property_percentage(property_train_df, inference_property),get_property_percentage(property_val_df, inference_property),get_property_percentage(train_df, inference_property),get_property_percentage(val_df, inference_property))\n",
    "# print(attributes_df.keys())\n",
    "# all_names = attributes_df.person.unique()\n",
    "# tt_msk = np.random.rand(len(all_names)) < 0.8\n",
    "# temp_train_names = all_names[tt_msk]\n",
    "# test_names = all_names[~tt_msk]\n",
    "# del all_names, tt_msk\n",
    "# train_val_df = attributes_df.loc[attributes_df['person'].isin(temp_train_names)]\n",
    "# test_df = attributes_df.loc[attributes_df['person'].isin(test_names)]\n",
    "\n",
    "# # add column to indicate split\n",
    "# train_val_df['target'] = 0\n",
    "# # allocate half the people to the target\n",
    "# names = train_val_df['person'].drop_duplicates()\n",
    "# target_worker_names = names.sample(frac=1)[:int(len(names)/2)]\n",
    "# target_worker_names = target_worker_names.reset_index(drop=True)\n",
    "\n",
    "# # populate target field\n",
    "# for index, row in train_val_df.iterrows():\n",
    "#     if row['person'] in target_worker_names.values:\n",
    "#         train_val_df['target'][index] = 1\n",
    "\n",
    "# # print distribution of data\n",
    "# print(\"entries with worker 1: {}, entries with worker 2: {}, entries in training set: {}, total entries: {}\".format(sum(train_val_df['target']==1), sum(train_val_df['target']==0), len(test_df), len(attributes_df)))"
   ]
  },
  {
   "cell_type": "markdown",
   "metadata": {},
   "source": [
    "## Define dataset class ##"
   ]
  },
  {
   "cell_type": "code",
   "execution_count": 4,
   "metadata": {},
   "outputs": [],
   "source": [
    "class LFWDataset(Dataset):\n",
    "    \"\"\"LFW dataset.\"\"\"\n",
    "\n",
    "    def __init__(self, data_path, attributes_df, inference_property, transform=None):\n",
    "        self.attributes_df = attributes_df\n",
    "        self.data_path = data_path\n",
    "        self.transform = transform\n",
    "        self.inference_property = inference_property\n",
    "\n",
    "    def __len__(self):\n",
    "        return len(self.attributes_df)\n",
    "\n",
    "    def __getitem__(self, idx):\n",
    "        img_path = os.path.join(self.data_path, \"lfw_home/lfw_funneled\", self.attributes_df.iloc[idx]['person'].replace(' ', '_'),\"{}_{:04d}.jpg\".format(self.attributes_df.iloc[idx]['person'].replace(' ', '_'),self.attributes_df.iloc[idx]['imagenum']))\n",
    "#         img = torch.from_numpy(cv2.imread(img_path))\n",
    "        img = Image.open(img_path, mode='r')\n",
    "        \n",
    "        label = self.attributes_df.iloc[idx]['Male']>0\n",
    "        property_label = self.attributes_df.iloc[idx][self.inference_property]>0\n",
    "        \n",
    "        if self.transform:\n",
    "            img = self.transform(img)\n",
    "\n",
    "        return img, torch.tensor(label, dtype=torch.float), torch.tensor(property_label, dtype=torch.float)"
   ]
  },
  {
   "cell_type": "markdown",
   "metadata": {},
   "source": [
    "## Training, Validation, and Evaluation functions ##"
   ]
  },
  {
   "cell_type": "code",
   "execution_count": 5,
   "metadata": {},
   "outputs": [],
   "source": [
    "def perform_evaluation(val_model, dataloader):\n",
    "    with torch.no_grad():\n",
    "        epoch_loss = 0\n",
    "        epoch_accuracy = 0\n",
    "        for batch_idx, (data, target, inf_property) in tqdm_notebook(enumerate(dataloader), total=len(dataloader)):\n",
    "            # move data batch to GPU\n",
    "            data = data.cuda()\n",
    "            target = target.cuda()\n",
    "            # forward pass\n",
    "            output = val_model(data)\n",
    "            loss = F.binary_cross_entropy(output, target.unsqueeze(1))\n",
    "            # compute average loss an accuracy\n",
    "            output = output.to('cpu')\n",
    "            target = target.to('cpu')\n",
    "            current_acc = torch.tensor(((output>0.5)== torch.tensor(target.unsqueeze(1), dtype=torch.bool)).sum(), dtype=torch.float)/torch.tensor(len(target), dtype=torch.float)\n",
    "            epoch_loss = ((epoch_loss*batch_idx) + loss.item())/(batch_idx+1)\n",
    "            epoch_accuracy = ((epoch_accuracy*batch_idx) + current_acc.item())/(batch_idx+1)\n",
    "    print(\"testing loss: {} and testing accuracy: {}\".format(epoch_loss, epoch_accuracy))\n",
    "    return epoch_loss, epoch_accuracy"
   ]
  },
  {
   "cell_type": "code",
   "execution_count": 6,
   "metadata": {},
   "outputs": [],
   "source": [
    "def perform_validation(val_model, dataloader):\n",
    "    with torch.no_grad():\n",
    "        epoch_loss = 0\n",
    "        epoch_accuracy = 0\n",
    "        for batch_idx, (data, target, inf_property) in tqdm_notebook(enumerate(dataloader), total=len(dataloader)):\n",
    "            # move data batch to GPU\n",
    "            data = data.cuda()\n",
    "            target = target.cuda()\n",
    "            # forward pass\n",
    "            output = val_model(data)\n",
    "#             print(output, target.unsqueeze(1))\n",
    "            loss = F.binary_cross_entropy(output, target.unsqueeze(1))\n",
    "            # compute average loss an accuracy\n",
    "            output = output.to('cpu')\n",
    "            target = target.to('cpu')\n",
    "            current_acc = torch.tensor(((output>0.5)== torch.tensor(target.unsqueeze(1), dtype=torch.bool)).sum(), dtype=torch.float)/torch.tensor(len(target), dtype=torch.float)\n",
    "            epoch_loss = ((epoch_loss*batch_idx) + loss.item())/(batch_idx+1)\n",
    "            epoch_accuracy = ((epoch_accuracy*batch_idx) + current_acc.item())/(batch_idx+1)\n",
    "    print(\"val loss: {} and val accuracy: {}\".format(epoch_loss, epoch_accuracy))\n",
    "    return epoch_loss, epoch_accuracy"
   ]
  },
  {
   "cell_type": "code",
   "execution_count": 7,
   "metadata": {},
   "outputs": [],
   "source": [
    "def perform_training(model, dataloader, optimizer, epoch=None, grads_dir=None):\n",
    "    epoch_loss = 0\n",
    "    epoch_accuracy = 0\n",
    "    for batch_idx, (data, target, inf_property) in tqdm_notebook(enumerate(dataloader), total=len(dataloader)):\n",
    "        # move data batch to GPU\n",
    "        data = data.cuda()\n",
    "        target = target.cuda()\n",
    "        # zero the parameter gradients\n",
    "        optimizer.zero_grad()\n",
    "        # forward pass\n",
    "        output = model(data)\n",
    "        loss = F.binary_cross_entropy(output, target.unsqueeze(1))\n",
    "        # backward pass\n",
    "        loss.backward()\n",
    "        optimizer.step()\n",
    "        # log gradients\n",
    "        if grads_dir != None:\n",
    "            grads = []\n",
    "            for name, param in model.named_parameters():\n",
    "                if param.grad is not None:\n",
    "                    grads.append(param.grad.view(-1))\n",
    "            grads = torch.cat(grads)\n",
    "#             print(grads.shape, any(inf_property))\n",
    "            torch.save(grads, '{}/grads_{}_{}_prop_{}.pt'.format(grads_dir, batch_idx, epoch, any(inf_property)))\n",
    "        # compute average loss an accuracy\n",
    "        output = output.to('cpu')\n",
    "        target = target.to('cpu')\n",
    "        current_acc = torch.tensor(((output>0.5)== torch.tensor(target.unsqueeze(1), dtype=torch.bool)).sum(), dtype=torch.float)/torch.tensor(len(target), dtype=torch.float)\n",
    "        epoch_loss = ((epoch_loss*batch_idx) + loss.item())/(batch_idx+1)\n",
    "        epoch_accuracy = ((epoch_accuracy*batch_idx) + current_acc.item())/(batch_idx+1)\n",
    "    print(\"train loss: {} and train accuracy: {}\".format(epoch_loss, epoch_accuracy))\n",
    "    return epoch_loss, epoch_accuracy"
   ]
  },
  {
   "cell_type": "markdown",
   "metadata": {},
   "source": [
    "## Define Model ##"
   ]
  },
  {
   "cell_type": "code",
   "execution_count": 8,
   "metadata": {},
   "outputs": [],
   "source": [
    "class ResNet(nn.Module):\n",
    "    def __init__(self):\n",
    "        super(ResNet, self).__init__()\n",
    "        self.rnet = torch.hub.load('pytorch/vision:v0.5.0', 'resnet50', pretrained=True)\n",
    "        self.rnet.fc = nn.Linear(2048, 1)\n",
    "        \n",
    "        for p in self.parameters():\n",
    "            p.requires_grad = False\n",
    "\n",
    "        for p in self.rnet.fc.parameters():\n",
    "            p.requires_grad = True\n",
    "        \n",
    "        self.unfreeze_layer4()\n",
    "        self.unfreeze_layer3()\n",
    "\n",
    "    def forward(self, x):\n",
    "        x = torch.sigmoid(self.rnet(x))\n",
    "        return x\n",
    "    \n",
    "    def unfreeze_layer4(self):\n",
    "        for p in self.rnet.layer4.parameters():\n",
    "            p.requires_grad = True\n",
    "\n",
    "    def unfreeze_layer3(self):\n",
    "        for p in self.rnet.layer3.parameters():\n",
    "            p.requires_grad = True\n",
    "\n",
    "    def unfreeze_layer2(self):\n",
    "        for p in self.rnet.layer2.parameters():\n",
    "            p.requires_grad = True\n",
    "\n",
    "    def unfreeze_layer1(self):\n",
    "        for p in self.rnet.layer1.parameters():\n",
    "            p.requires_grad = True\n",
    "\n",
    "def define_model():\n",
    "    return ResNet()"
   ]
  },
  {
   "cell_type": "markdown",
   "metadata": {},
   "source": [
    "# Step1: Malicious node trains a gender classifier and generates a gradient dataset #"
   ]
  },
  {
   "cell_type": "markdown",
   "metadata": {},
   "source": [
    "### Declare datasets and dataloaders ###"
   ]
  },
  {
   "cell_type": "code",
   "execution_count": 9,
   "metadata": {},
   "outputs": [],
   "source": [
    "if 1 in active_steps:\n",
    "    # datasets\n",
    "    property_train_dataset = LFWDataset(data_path, property_train_df, inference_property, transform=transforms.Compose([\n",
    "    #                                                                             transforms.RandomResizedCrop(224),\n",
    "                                                                                transforms.RandomHorizontalFlip(),\n",
    "                                                                                transforms.ToTensor()\n",
    "                                                                                ]))\n",
    "    property_val_dataset = LFWDataset(data_path, property_val_df, inference_property, transform=transforms.Compose([\n",
    "    #                                                                         transforms.RandomResizedCrop(224),\n",
    "                                                                            transforms.RandomHorizontalFlip(),\n",
    "                                                                            transforms.ToTensor()]))\n",
    "\n",
    "    # dataloaders\n",
    "    property_train_dataloader = DataLoader(property_train_dataset, batch_size=batch_size, shuffle=True, num_workers=num_workers)\n",
    "    property_val_dataloader = DataLoader(property_val_dataset, batch_size=batch_size, shuffle=True, num_workers=num_workers)\n",
    "\n",
    "    print(len(property_train_dataloader), len(property_val_dataloader))"
   ]
  },
  {
   "cell_type": "markdown",
   "metadata": {},
   "source": [
    "### Sanity Check ###"
   ]
  },
  {
   "cell_type": "code",
   "execution_count": 10,
   "metadata": {},
   "outputs": [],
   "source": [
    "if 1 in active_steps:\n",
    "    for i , (img, label, property_inference) in enumerate(property_train_dataloader):\n",
    "        print(property_inference, any(property_inference))\n",
    "        for im, lab, prop in zip(img, label, property_inference):\n",
    "            plt.imshow(np.moveaxis(np.asarray(im), 0, -1))\n",
    "            plt.show()\n",
    "            print(lab, prop)\n",
    "            break\n",
    "        break"
   ]
  },
  {
   "cell_type": "markdown",
   "metadata": {},
   "source": [
    "### Define model and optimizer ###"
   ]
  },
  {
   "cell_type": "code",
   "execution_count": 11,
   "metadata": {},
   "outputs": [],
   "source": [
    "if 1 in active_steps:\n",
    "    property_model = define_model().cuda()\n",
    "    property_optimizer = optim.Adam(property_model.parameters(), lr=learning_rate)"
   ]
  },
  {
   "cell_type": "markdown",
   "metadata": {},
   "source": [
    "### Start Training ###\n",
    "TODO: re-evaluate how to incorporate unfreezing schedule in this framework"
   ]
  },
  {
   "cell_type": "code",
   "execution_count": 12,
   "metadata": {},
   "outputs": [],
   "source": [
    "if 1 in active_steps:\n",
    "    # Clear working dir\n",
    "    for filename in os.listdir(working_dir):\n",
    "        file_path = os.path.join(working_dir, filename)\n",
    "        try:\n",
    "            if os.path.isfile(file_path) or os.path.islink(file_path):\n",
    "                os.unlink(file_path)\n",
    "            elif os.path.isdir(file_path):\n",
    "                shutil.rmtree(file_path)\n",
    "        except Exception as e:\n",
    "            print('Failed to delete %s. Reason: %s' % (file_path, e))\n",
    "    max_val_acc = 0\n",
    "    for epoch in range(property_inf_epochs):\n",
    "        # run train and val epochs\n",
    "        print(\"Epoch: {}\".format(epoch))\n",
    "        property_model.train()\n",
    "        train_loss, train_acc = perform_training(property_model, property_train_dataloader, property_optimizer, epoch=epoch, grads_dir=working_dir)\n",
    "        writer.add_scalar('property_training loss', train_loss, epoch)\n",
    "        writer.add_scalar('property_training accuracy', train_acc, epoch)\n",
    "        property_model.eval()\n",
    "        val_loss, val_acc = perform_validation(property_model, property_val_dataloader)\n",
    "        writer.add_scalar('property_validation loss', val_loss, epoch)\n",
    "        writer.add_scalar('property_validation accuracy', val_acc, epoch)\n",
    "    writer.close()"
   ]
  },
  {
   "cell_type": "markdown",
   "metadata": {},
   "source": [
    "# Step2: Malicious node trains a property inference classifier on the gradient dataset #"
   ]
  },
  {
   "cell_type": "markdown",
   "metadata": {},
   "source": [
    "### Read and Split Gradient Dataset ###"
   ]
  },
  {
   "cell_type": "code",
   "execution_count": 13,
   "metadata": {},
   "outputs": [
    {
     "name": "stdout",
     "output_type": "stream",
     "text": [
      "403 107\n"
     ]
    }
   ],
   "source": [
    "if 2 in active_steps:\n",
    "    # read_dataset\n",
    "    grad_df = pd.DataFrame(columns=[\"grad_path\", \"label\"])\n",
    "    for filename in os.listdir(working_dir):\n",
    "        file_path = os.path.join(working_dir, filename)\n",
    "        if file_path.endswith('.pt'):\n",
    "            entry = pd.DataFrame({\"grad_path\": [file_path],\n",
    "                                 \"label\": [file_path[:-3].split('_')[-1]]})\n",
    "            grad_df = grad_df.append(entry)\n",
    "    grad_df = grad_df.reset_index(drop=True)\n",
    "    \n",
    "    # 80-20 split\n",
    "    msk = np.random.rand(len(grad_df)) < 0.8\n",
    "    attack_train_df = grad_df[msk]\n",
    "    attack_val_df = grad_df[~msk]\n",
    "    del grad_df\n",
    "    print(len(attack_train_df), len(attack_val_df))"
   ]
  },
  {
   "cell_type": "markdown",
   "metadata": {},
   "source": [
    "### Dataset Class ###"
   ]
  },
  {
   "cell_type": "code",
   "execution_count": 14,
   "metadata": {},
   "outputs": [],
   "source": [
    "if 2 in active_steps:\n",
    "    class GradientDataset(Dataset):\n",
    "        \"\"\"Face Landmarks dataset.\"\"\"\n",
    "\n",
    "        def __init__(self, gradients_df):\n",
    "            self.gradients_df = gradients_df\n",
    "\n",
    "        def __len__(self):\n",
    "            return len(self.gradients_df)\n",
    "\n",
    "        def __getitem__(self, idx):\n",
    "            grad = torch.load(self.gradients_df.iloc[idx]['grad_path'], map_location=torch.device('cpu'))\n",
    "            label = 1 if 'True' == self.gradients_df.iloc[idx]['label'] else 0\n",
    "\n",
    "            return grad, torch.tensor(label, dtype=torch.float)\n",
    "    # declare datasets\n",
    "    attack_train_dataset = GradientDataset(attack_train_df)\n",
    "    attack_val_dataset = GradientDataset(attack_val_df)\n",
    "    # dataloaders\n",
    "    attack_train_dataloader = DataLoader(attack_train_dataset, batch_size=8, shuffle=True, num_workers=num_workers)\n",
    "    attack_val_dataloader = DataLoader(attack_val_dataset, batch_size=8, shuffle=True, num_workers=num_workers)"
   ]
  },
  {
   "cell_type": "markdown",
   "metadata": {},
   "source": [
    "### Sanity Check ###"
   ]
  },
  {
   "cell_type": "code",
   "execution_count": 15,
   "metadata": {
    "scrolled": true
   },
   "outputs": [
    {
     "name": "stdout",
     "output_type": "stream",
     "text": [
      "torch.Size([22065153]) tensor(0.)\n"
     ]
    }
   ],
   "source": [
    "if 2 in active_steps:\n",
    "    for i , (img, label) in enumerate(attack_train_dataloader):\n",
    "        for grad, lab in zip(img, label):\n",
    "            print(grad.shape, lab)\n",
    "            break\n",
    "        break"
   ]
  },
  {
   "cell_type": "markdown",
   "metadata": {},
   "source": [
    "### Define Attack Model ###"
   ]
  },
  {
   "cell_type": "code",
   "execution_count": 16,
   "metadata": {},
   "outputs": [],
   "source": [
    "if 2 in active_steps:\n",
    "    class AttackNet(nn.Module):\n",
    "        def __init__(self):\n",
    "            super(AttackNet, self).__init__()\n",
    "            self.dropout_layer = nn.Dropout(p=0.2)\n",
    "#             self.dense_layer = nn.Linear(22065153, 1)\n",
    "            self.dense_layer = nn.Linear(7500000, 1)\n",
    "#             self.dense_layer = nn.Linear(14565153, 1)\n",
    "\n",
    "        def forward(self, x):\n",
    "            op = torch.sigmoid(self.dense_layer(self.dropout_layer(x[:,14565153:])))\n",
    "            return op"
   ]
  },
  {
   "cell_type": "code",
   "execution_count": 17,
   "metadata": {},
   "outputs": [
    {
     "name": "stdout",
     "output_type": "stream",
     "text": [
      "AttackNet(\n",
      "  (dropout_layer): Dropout(p=0.2, inplace=False)\n",
      "  (dense_layer): Linear(in_features=7500000, out_features=1, bias=True)\n",
      ")\n"
     ]
    }
   ],
   "source": [
    "if 2 in active_steps:\n",
    "    attack_network = AttackNet().cuda()\n",
    "    print(attack_network)"
   ]
  },
  {
   "cell_type": "markdown",
   "metadata": {},
   "source": [
    "### Define Optimizer and train \\ val functions ###"
   ]
  },
  {
   "cell_type": "code",
   "execution_count": 18,
   "metadata": {},
   "outputs": [],
   "source": [
    "if 2 in active_steps:\n",
    "    attack_optimizer = optim.Adam(attack_network.parameters(), lr=0.005)"
   ]
  },
  {
   "cell_type": "code",
   "execution_count": 19,
   "metadata": {},
   "outputs": [],
   "source": [
    "if 2 in active_steps:\n",
    "    def perform_attack_validation(val_model, dataloader):\n",
    "        with torch.no_grad():\n",
    "            epoch_loss = 0\n",
    "            epoch_accuracy = 0\n",
    "            for batch_idx, (data, target) in tqdm_notebook(enumerate(dataloader), total=len(dataloader)):\n",
    "                # move data batch to GPU\n",
    "                data = data.cuda()\n",
    "                target = target.cuda()\n",
    "                # forward pass\n",
    "                output = val_model(data)\n",
    "    #             print(output, target.unsqueeze(1))\n",
    "                loss = F.binary_cross_entropy(output, target.unsqueeze(1))\n",
    "                # compute average loss an accuracy\n",
    "                output = output.to('cpu')\n",
    "                target = target.to('cpu')\n",
    "                current_acc = torch.tensor(((output>0.5)== torch.tensor(target.unsqueeze(1), dtype=torch.bool)).sum(), dtype=torch.float)/torch.tensor(len(target), dtype=torch.float)\n",
    "                epoch_loss = ((epoch_loss*batch_idx) + loss.item())/(batch_idx+1)\n",
    "                epoch_accuracy = ((epoch_accuracy*batch_idx) + current_acc.item())/(batch_idx+1)\n",
    "        print(\"val loss: {} and val accuracy: {}\".format(epoch_loss, epoch_accuracy))\n",
    "        return epoch_loss, epoch_accuracy\n",
    "\n",
    "    def perform_attack_training(model, dataloader, optimizer):\n",
    "        epoch_loss = 0\n",
    "        epoch_accuracy = 0\n",
    "        for batch_idx, (data, target) in tqdm_notebook(enumerate(dataloader), total=len(dataloader)):\n",
    "            # move data batch to GPU\n",
    "            data = data.cuda()\n",
    "            target = target.cuda()\n",
    "            # zero the parameter gradients\n",
    "            optimizer.zero_grad()\n",
    "            # forward pass\n",
    "            output = model(data)\n",
    "            loss = F.binary_cross_entropy(output, target.unsqueeze(1))\n",
    "            # backward pass\n",
    "            loss.backward()\n",
    "            optimizer.step()\n",
    "            # compute average loss an accuracy\n",
    "            output = output.to('cpu')\n",
    "            target = target.to('cpu')\n",
    "            current_acc = torch.tensor(((output>0.5)== torch.tensor(target.unsqueeze(1), dtype=torch.bool)).sum(), dtype=torch.float)/torch.tensor(len(target), dtype=torch.float)\n",
    "            epoch_loss = ((epoch_loss*batch_idx) + loss.item())/(batch_idx+1)\n",
    "            epoch_accuracy = ((epoch_accuracy*batch_idx) + current_acc.item())/(batch_idx+1)\n",
    "        print(\"train loss: {} and train accuracy: {}\".format(epoch_loss, epoch_accuracy))\n",
    "        return epoch_loss, epoch_accuracy"
   ]
  },
  {
   "cell_type": "markdown",
   "metadata": {},
   "source": [
    "### Train attack model ###"
   ]
  },
  {
   "cell_type": "code",
   "execution_count": 20,
   "metadata": {
    "scrolled": true
   },
   "outputs": [
    {
     "name": "stdout",
     "output_type": "stream",
     "text": [
      "Epoch: 0\n"
     ]
    },
    {
     "data": {
      "application/vnd.jupyter.widget-view+json": {
       "model_id": "6f712094ea6b41cdbdebd5b8a01c71b7",
       "version_major": 2,
       "version_minor": 0
      },
      "text/plain": [
       "HBox(children=(IntProgress(value=0, max=51), HTML(value='')))"
      ]
     },
     "metadata": {},
     "output_type": "display_data"
    },
    {
     "name": "stderr",
     "output_type": "stream",
     "text": [
      "/home/sattvik/envs/pytorch_env/lib/python3.6/site-packages/ipykernel_launcher.py:41: UserWarning: To copy construct from a tensor, it is recommended to use sourceTensor.clone().detach() or sourceTensor.clone().detach().requires_grad_(True), rather than torch.tensor(sourceTensor).\n"
     ]
    },
    {
     "name": "stdout",
     "output_type": "stream",
     "text": [
      "\n",
      "train loss: 0.6914205948511759 and train accuracy: 0.5522875820889194\n"
     ]
    },
    {
     "data": {
      "application/vnd.jupyter.widget-view+json": {
       "model_id": "901caee03a524d05a93ee025fdeb06a1",
       "version_major": 2,
       "version_minor": 0
      },
      "text/plain": [
       "HBox(children=(IntProgress(value=0, max=14), HTML(value='')))"
      ]
     },
     "metadata": {},
     "output_type": "display_data"
    },
    {
     "name": "stderr",
     "output_type": "stream",
     "text": [
      "/home/sattvik/envs/pytorch_env/lib/python3.6/site-packages/ipykernel_launcher.py:17: UserWarning: To copy construct from a tensor, it is recommended to use sourceTensor.clone().detach() or sourceTensor.clone().detach().requires_grad_(True), rather than torch.tensor(sourceTensor).\n"
     ]
    },
    {
     "name": "stdout",
     "output_type": "stream",
     "text": [
      "\n",
      "val loss: 0.6937080110822406 and val accuracy: 0.6190476204667773\n",
      "saving model on epoch 0\n",
      "Epoch: 1\n"
     ]
    },
    {
     "data": {
      "application/vnd.jupyter.widget-view+json": {
       "model_id": "581f595e8bf24e77911128f069ec7415",
       "version_major": 2,
       "version_minor": 0
      },
      "text/plain": [
       "HBox(children=(IntProgress(value=0, max=51), HTML(value='')))"
      ]
     },
     "metadata": {},
     "output_type": "display_data"
    },
    {
     "name": "stdout",
     "output_type": "stream",
     "text": [
      "\n",
      "train loss: 0.6261418257273879 and train accuracy: 0.6617647058823529\n"
     ]
    },
    {
     "data": {
      "application/vnd.jupyter.widget-view+json": {
       "model_id": "94ac051ff0a548fb9a83348b54b896f8",
       "version_major": 2,
       "version_minor": 0
      },
      "text/plain": [
       "HBox(children=(IntProgress(value=0, max=14), HTML(value='')))"
      ]
     },
     "metadata": {},
     "output_type": "display_data"
    },
    {
     "name": "stdout",
     "output_type": "stream",
     "text": [
      "\n",
      "val loss: 0.6833579625402179 and val accuracy: 0.6369047633239201\n",
      "saving model on epoch 1\n",
      "Epoch: 2\n"
     ]
    },
    {
     "data": {
      "application/vnd.jupyter.widget-view+json": {
       "model_id": "ab988fe0f2044f4c818e7ca10b0abd30",
       "version_major": 2,
       "version_minor": 0
      },
      "text/plain": [
       "HBox(children=(IntProgress(value=0, max=51), HTML(value='')))"
      ]
     },
     "metadata": {},
     "output_type": "display_data"
    },
    {
     "name": "stdout",
     "output_type": "stream",
     "text": [
      "\n",
      "train loss: 0.5996809929024941 and train accuracy: 0.6887254901960782\n"
     ]
    },
    {
     "data": {
      "application/vnd.jupyter.widget-view+json": {
       "model_id": "92371d6943184f468f4e1d8bd2e11008",
       "version_major": 2,
       "version_minor": 0
      },
      "text/plain": [
       "HBox(children=(IntProgress(value=0, max=14), HTML(value='')))"
      ]
     },
     "metadata": {},
     "output_type": "display_data"
    },
    {
     "name": "stdout",
     "output_type": "stream",
     "text": [
      "\n",
      "val loss: 0.6835514051573617 and val accuracy: 0.5773809530905315\n",
      "saving model on epoch 2\n",
      "Epoch: 3\n"
     ]
    },
    {
     "data": {
      "application/vnd.jupyter.widget-view+json": {
       "model_id": "ef943fa386bf429594fb93a61b190539",
       "version_major": 2,
       "version_minor": 0
      },
      "text/plain": [
       "HBox(children=(IntProgress(value=0, max=51), HTML(value='')))"
      ]
     },
     "metadata": {},
     "output_type": "display_data"
    },
    {
     "name": "stdout",
     "output_type": "stream",
     "text": [
      "\n",
      "train loss: 0.5866318982021481 and train accuracy: 0.6879084969268127\n"
     ]
    },
    {
     "data": {
      "application/vnd.jupyter.widget-view+json": {
       "model_id": "e75d73666abf47d9ae55d0dda6189c34",
       "version_major": 2,
       "version_minor": 0
      },
      "text/plain": [
       "HBox(children=(IntProgress(value=0, max=14), HTML(value='')))"
      ]
     },
     "metadata": {},
     "output_type": "display_data"
    },
    {
     "name": "stdout",
     "output_type": "stream",
     "text": [
      "\n",
      "val loss: 0.6821915847914559 and val accuracy: 0.5952380959476743\n",
      "saving model on epoch 3\n",
      "Epoch: 4\n"
     ]
    },
    {
     "data": {
      "application/vnd.jupyter.widget-view+json": {
       "model_id": "faacbee3fae44c659af13e80c90497e5",
       "version_major": 2,
       "version_minor": 0
      },
      "text/plain": [
       "HBox(children=(IntProgress(value=0, max=51), HTML(value='')))"
      ]
     },
     "metadata": {},
     "output_type": "display_data"
    },
    {
     "name": "stdout",
     "output_type": "stream",
     "text": [
      "\n",
      "train loss: 0.5627070414085015 and train accuracy: 0.7034313725490199\n"
     ]
    },
    {
     "data": {
      "application/vnd.jupyter.widget-view+json": {
       "model_id": "5bfadfb8dffc4c02a4dc768e9a7035d3",
       "version_major": 2,
       "version_minor": 0
      },
      "text/plain": [
       "HBox(children=(IntProgress(value=0, max=14), HTML(value='')))"
      ]
     },
     "metadata": {},
     "output_type": "display_data"
    },
    {
     "name": "stdout",
     "output_type": "stream",
     "text": [
      "\n",
      "val loss: 0.6988110542297363 and val accuracy: 0.6369047633239201\n",
      "saving model on epoch 4\n",
      "Epoch: 5\n"
     ]
    },
    {
     "data": {
      "application/vnd.jupyter.widget-view+json": {
       "model_id": "0e5720ea7c0f431db0665e88fff91c7d",
       "version_major": 2,
       "version_minor": 0
      },
      "text/plain": [
       "HBox(children=(IntProgress(value=0, max=51), HTML(value='')))"
      ]
     },
     "metadata": {},
     "output_type": "display_data"
    },
    {
     "name": "stdout",
     "output_type": "stream",
     "text": [
      "\n",
      "train loss: 0.5550328043161652 and train accuracy: 0.7116013075791153\n"
     ]
    },
    {
     "data": {
      "application/vnd.jupyter.widget-view+json": {
       "model_id": "cf41aecf7b8b401eb9bebb751b556794",
       "version_major": 2,
       "version_minor": 0
      },
      "text/plain": [
       "HBox(children=(IntProgress(value=0, max=14), HTML(value='')))"
      ]
     },
     "metadata": {},
     "output_type": "display_data"
    },
    {
     "name": "stdout",
     "output_type": "stream",
     "text": [
      "\n",
      "val loss: 0.6956308377640588 and val accuracy: 0.5773809530905315\n",
      "saving model on epoch 5\n",
      "Epoch: 6\n"
     ]
    },
    {
     "data": {
      "application/vnd.jupyter.widget-view+json": {
       "model_id": "852aa343670c4a25b20cd527cef99fe9",
       "version_major": 2,
       "version_minor": 0
      },
      "text/plain": [
       "HBox(children=(IntProgress(value=0, max=51), HTML(value='')))"
      ]
     },
     "metadata": {},
     "output_type": "display_data"
    },
    {
     "name": "stdout",
     "output_type": "stream",
     "text": [
      "\n",
      "train loss: 0.5539076526959735 and train accuracy: 0.7279411764705882\n"
     ]
    },
    {
     "data": {
      "application/vnd.jupyter.widget-view+json": {
       "model_id": "e91e41d042504d71a262a90f0b2d61ca",
       "version_major": 2,
       "version_minor": 0
      },
      "text/plain": [
       "HBox(children=(IntProgress(value=0, max=14), HTML(value='')))"
      ]
     },
     "metadata": {},
     "output_type": "display_data"
    },
    {
     "name": "stdout",
     "output_type": "stream",
     "text": [
      "\n",
      "val loss: 0.678356626204082 and val accuracy: 0.6011904776096344\n",
      "saving model on epoch 6\n",
      "Epoch: 7\n"
     ]
    },
    {
     "data": {
      "application/vnd.jupyter.widget-view+json": {
       "model_id": "f7b3d42d1e904829b3994c97964d019b",
       "version_major": 2,
       "version_minor": 0
      },
      "text/plain": [
       "HBox(children=(IntProgress(value=0, max=51), HTML(value='')))"
      ]
     },
     "metadata": {},
     "output_type": "display_data"
    },
    {
     "name": "stdout",
     "output_type": "stream",
     "text": [
      "\n",
      "train loss: 0.5333227865836199 and train accuracy: 0.7132352941176471\n"
     ]
    },
    {
     "data": {
      "application/vnd.jupyter.widget-view+json": {
       "model_id": "0c9664976e4f4755adfa83536ccb0d24",
       "version_major": 2,
       "version_minor": 0
      },
      "text/plain": [
       "HBox(children=(IntProgress(value=0, max=14), HTML(value='')))"
      ]
     },
     "metadata": {},
     "output_type": "display_data"
    },
    {
     "name": "stdout",
     "output_type": "stream",
     "text": [
      "\n",
      "val loss: 0.681641840509006 and val accuracy: 0.6160714285714286\n",
      "saving model on epoch 7\n",
      "Epoch: 8\n"
     ]
    },
    {
     "data": {
      "application/vnd.jupyter.widget-view+json": {
       "model_id": "68fcb231bab1415aae127c8b1780ecf5",
       "version_major": 2,
       "version_minor": 0
      },
      "text/plain": [
       "HBox(children=(IntProgress(value=0, max=51), HTML(value='')))"
      ]
     },
     "metadata": {},
     "output_type": "display_data"
    },
    {
     "name": "stdout",
     "output_type": "stream",
     "text": [
      "\n",
      "train loss: 0.5210954687174629 and train accuracy: 0.7442810459464204\n"
     ]
    },
    {
     "data": {
      "application/vnd.jupyter.widget-view+json": {
       "model_id": "beed3c2d94f447f197f6644d35e97d3c",
       "version_major": 2,
       "version_minor": 0
      },
      "text/plain": [
       "HBox(children=(IntProgress(value=0, max=14), HTML(value='')))"
      ]
     },
     "metadata": {},
     "output_type": "display_data"
    },
    {
     "name": "stdout",
     "output_type": "stream",
     "text": [
      "\n",
      "val loss: 0.6800696700811386 and val accuracy: 0.6101190490382058\n",
      "saving model on epoch 8\n",
      "Epoch: 9\n"
     ]
    },
    {
     "data": {
      "application/vnd.jupyter.widget-view+json": {
       "model_id": "e4dfb0dd08ad401aa899a21575cb88a3",
       "version_major": 2,
       "version_minor": 0
      },
      "text/plain": [
       "HBox(children=(IntProgress(value=0, max=51), HTML(value='')))"
      ]
     },
     "metadata": {},
     "output_type": "display_data"
    },
    {
     "name": "stdout",
     "output_type": "stream",
     "text": [
      "\n",
      "train loss: 0.5168814051385019 and train accuracy: 0.7320261439856361\n"
     ]
    },
    {
     "data": {
      "application/vnd.jupyter.widget-view+json": {
       "model_id": "ff021b80d69c4c1f965177a0504cfe9a",
       "version_major": 2,
       "version_minor": 0
      },
      "text/plain": [
       "HBox(children=(IntProgress(value=0, max=14), HTML(value='')))"
      ]
     },
     "metadata": {},
     "output_type": "display_data"
    },
    {
     "name": "stdout",
     "output_type": "stream",
     "text": [
      "\n",
      "val loss: 0.6999619134834835 and val accuracy: 0.6101190490382058\n",
      "saving model on epoch 9\n",
      "Epoch: 10\n"
     ]
    },
    {
     "data": {
      "application/vnd.jupyter.widget-view+json": {
       "model_id": "9e77f389770149ffb9e973863418f641",
       "version_major": 2,
       "version_minor": 0
      },
      "text/plain": [
       "HBox(children=(IntProgress(value=0, max=51), HTML(value='')))"
      ]
     },
     "metadata": {},
     "output_type": "display_data"
    },
    {
     "name": "stdout",
     "output_type": "stream",
     "text": [
      "\n",
      "train loss: 0.4993470515690598 and train accuracy: 0.7647058823529411\n"
     ]
    },
    {
     "data": {
      "application/vnd.jupyter.widget-view+json": {
       "model_id": "a1e2ea0a68684f31ac8f12d06ae190be",
       "version_major": 2,
       "version_minor": 0
      },
      "text/plain": [
       "HBox(children=(IntProgress(value=0, max=14), HTML(value='')))"
      ]
     },
     "metadata": {},
     "output_type": "display_data"
    },
    {
     "name": "stdout",
     "output_type": "stream",
     "text": [
      "\n",
      "val loss: 0.6953484266996384 and val accuracy: 0.592261906181063\n",
      "saving model on epoch 10\n",
      "Epoch: 11\n"
     ]
    },
    {
     "data": {
      "application/vnd.jupyter.widget-view+json": {
       "model_id": "1d9e35b0be114734bc66e2af103d85b3",
       "version_major": 2,
       "version_minor": 0
      },
      "text/plain": [
       "HBox(children=(IntProgress(value=0, max=51), HTML(value='')))"
      ]
     },
     "metadata": {},
     "output_type": "display_data"
    },
    {
     "name": "stdout",
     "output_type": "stream",
     "text": [
      "\n",
      "train loss: 0.4905681084184086 and train accuracy: 0.7679738565987233\n"
     ]
    },
    {
     "data": {
      "application/vnd.jupyter.widget-view+json": {
       "model_id": "ba7d6090ce8d487ca3f67d71bd847deb",
       "version_major": 2,
       "version_minor": 0
      },
      "text/plain": [
       "HBox(children=(IntProgress(value=0, max=14), HTML(value='')))"
      ]
     },
     "metadata": {},
     "output_type": "display_data"
    },
    {
     "name": "stdout",
     "output_type": "stream",
     "text": [
      "\n",
      "val loss: 0.7057926910264152 and val accuracy: 0.5684523816619601\n",
      "saving model on epoch 11\n",
      "Epoch: 12\n"
     ]
    },
    {
     "data": {
      "application/vnd.jupyter.widget-view+json": {
       "model_id": "74b6bd4efe5a44259d345b150485f9fd",
       "version_major": 2,
       "version_minor": 0
      },
      "text/plain": [
       "HBox(children=(IntProgress(value=0, max=51), HTML(value='')))"
      ]
     },
     "metadata": {},
     "output_type": "display_data"
    },
    {
     "name": "stdout",
     "output_type": "stream",
     "text": [
      "\n",
      "train loss: 0.484003929530873 and train accuracy: 0.7712418302601459\n"
     ]
    },
    {
     "data": {
      "application/vnd.jupyter.widget-view+json": {
       "model_id": "93856101ef5642bba107eb9314ed66d9",
       "version_major": 2,
       "version_minor": 0
      },
      "text/plain": [
       "HBox(children=(IntProgress(value=0, max=14), HTML(value='')))"
      ]
     },
     "metadata": {},
     "output_type": "display_data"
    },
    {
     "name": "stdout",
     "output_type": "stream",
     "text": [
      "\n",
      "val loss: 0.7108283404793058 and val accuracy: 0.6190476204667773\n",
      "saving model on epoch 12\n",
      "Epoch: 13\n"
     ]
    },
    {
     "data": {
      "application/vnd.jupyter.widget-view+json": {
       "model_id": "09e8b03abbe64794a86da15c6860a700",
       "version_major": 2,
       "version_minor": 0
      },
      "text/plain": [
       "HBox(children=(IntProgress(value=0, max=51), HTML(value='')))"
      ]
     },
     "metadata": {},
     "output_type": "display_data"
    },
    {
     "name": "stdout",
     "output_type": "stream",
     "text": [
      "\n",
      "train loss: 0.47303923117179497 and train accuracy: 0.7818627450980392\n"
     ]
    },
    {
     "data": {
      "application/vnd.jupyter.widget-view+json": {
       "model_id": "f6abfd27b135468e9464fcf2aba3953f",
       "version_major": 2,
       "version_minor": 0
      },
      "text/plain": [
       "HBox(children=(IntProgress(value=0, max=14), HTML(value='')))"
      ]
     },
     "metadata": {},
     "output_type": "display_data"
    },
    {
     "name": "stdout",
     "output_type": "stream",
     "text": [
      "\n",
      "val loss: 0.7266974151134491 and val accuracy: 0.6011904776096344\n",
      "saving model on epoch 13\n",
      "Epoch: 14\n"
     ]
    },
    {
     "data": {
      "application/vnd.jupyter.widget-view+json": {
       "model_id": "855dae25938e450d8decc4b696166481",
       "version_major": 2,
       "version_minor": 0
      },
      "text/plain": [
       "HBox(children=(IntProgress(value=0, max=51), HTML(value='')))"
      ]
     },
     "metadata": {},
     "output_type": "display_data"
    },
    {
     "name": "stdout",
     "output_type": "stream",
     "text": [
      "\n",
      "train loss: 0.4664296671455982 and train accuracy: 0.7973856213046056\n"
     ]
    },
    {
     "data": {
      "application/vnd.jupyter.widget-view+json": {
       "model_id": "445dc9283f69410b9cc84efac9a32489",
       "version_major": 2,
       "version_minor": 0
      },
      "text/plain": [
       "HBox(children=(IntProgress(value=0, max=14), HTML(value='')))"
      ]
     },
     "metadata": {},
     "output_type": "display_data"
    },
    {
     "name": "stdout",
     "output_type": "stream",
     "text": [
      "\n",
      "val loss: 0.709670928972108 and val accuracy: 0.6011904776096344\n",
      "saving model on epoch 14\n",
      "Epoch: 15\n"
     ]
    },
    {
     "data": {
      "application/vnd.jupyter.widget-view+json": {
       "model_id": "eed9c928fb104fddb8b01de49bc862e9",
       "version_major": 2,
       "version_minor": 0
      },
      "text/plain": [
       "HBox(children=(IntProgress(value=0, max=51), HTML(value='')))"
      ]
     },
     "metadata": {},
     "output_type": "display_data"
    },
    {
     "name": "stdout",
     "output_type": "stream",
     "text": [
      "\n",
      "train loss: 0.47013237137420505 and train accuracy: 0.7802287585595075\n"
     ]
    },
    {
     "data": {
      "application/vnd.jupyter.widget-view+json": {
       "model_id": "97aa050a39294946b7338fc497bfb064",
       "version_major": 2,
       "version_minor": 0
      },
      "text/plain": [
       "HBox(children=(IntProgress(value=0, max=14), HTML(value='')))"
      ]
     },
     "metadata": {},
     "output_type": "display_data"
    },
    {
     "name": "stdout",
     "output_type": "stream",
     "text": [
      "\n",
      "val loss: 0.7073798647948674 and val accuracy: 0.6011904776096344\n",
      "saving model on epoch 15\n",
      "Epoch: 16\n"
     ]
    },
    {
     "data": {
      "application/vnd.jupyter.widget-view+json": {
       "model_id": "08e33da0c11c4c3da8c7f17e4cad924c",
       "version_major": 2,
       "version_minor": 0
      },
      "text/plain": [
       "HBox(children=(IntProgress(value=0, max=51), HTML(value='')))"
      ]
     },
     "metadata": {},
     "output_type": "display_data"
    },
    {
     "name": "stdout",
     "output_type": "stream",
     "text": [
      "\n",
      "train loss: 0.45112525773983375 and train accuracy: 0.803921568627451\n"
     ]
    },
    {
     "data": {
      "application/vnd.jupyter.widget-view+json": {
       "model_id": "2e0b42024b714ce1829c7469321b93df",
       "version_major": 2,
       "version_minor": 0
      },
      "text/plain": [
       "HBox(children=(IntProgress(value=0, max=14), HTML(value='')))"
      ]
     },
     "metadata": {},
     "output_type": "display_data"
    },
    {
     "name": "stdout",
     "output_type": "stream",
     "text": [
      "\n",
      "val loss: 0.7561315553528922 and val accuracy: 0.5714285714285714\n",
      "saving model on epoch 16\n",
      "Epoch: 17\n"
     ]
    },
    {
     "data": {
      "application/vnd.jupyter.widget-view+json": {
       "model_id": "696f548b2efc4428afba2f0f1ab8ff5a",
       "version_major": 2,
       "version_minor": 0
      },
      "text/plain": [
       "HBox(children=(IntProgress(value=0, max=51), HTML(value='')))"
      ]
     },
     "metadata": {},
     "output_type": "display_data"
    },
    {
     "name": "stdout",
     "output_type": "stream",
     "text": [
      "\n",
      "train loss: 0.4417444087711035 and train accuracy: 0.803921568627451\n"
     ]
    },
    {
     "data": {
      "application/vnd.jupyter.widget-view+json": {
       "model_id": "8961304b500f4bf08c9f6c738a8ea9b4",
       "version_major": 2,
       "version_minor": 0
      },
      "text/plain": [
       "HBox(children=(IntProgress(value=0, max=14), HTML(value='')))"
      ]
     },
     "metadata": {},
     "output_type": "display_data"
    },
    {
     "name": "stdout",
     "output_type": "stream",
     "text": [
      "\n",
      "val loss: 0.7278582985912051 and val accuracy: 0.5952380959476743\n",
      "saving model on epoch 17\n",
      "Epoch: 18\n"
     ]
    },
    {
     "data": {
      "application/vnd.jupyter.widget-view+json": {
       "model_id": "e970530ebd4c47438ffa3a329801ed59",
       "version_major": 2,
       "version_minor": 0
      },
      "text/plain": [
       "HBox(children=(IntProgress(value=0, max=51), HTML(value='')))"
      ]
     },
     "metadata": {},
     "output_type": "display_data"
    },
    {
     "name": "stdout",
     "output_type": "stream",
     "text": [
      "\n",
      "train loss: 0.44275107833684657 and train accuracy: 0.8096405232653898\n"
     ]
    },
    {
     "data": {
      "application/vnd.jupyter.widget-view+json": {
       "model_id": "c208c8fdbffd4970af0373dfa6f0395b",
       "version_major": 2,
       "version_minor": 0
      },
      "text/plain": [
       "HBox(children=(IntProgress(value=0, max=14), HTML(value='')))"
      ]
     },
     "metadata": {},
     "output_type": "display_data"
    },
    {
     "name": "stdout",
     "output_type": "stream",
     "text": [
      "\n",
      "val loss: 0.7112405811037336 and val accuracy: 0.625\n",
      "saving model on epoch 18\n",
      "Epoch: 19\n"
     ]
    },
    {
     "data": {
      "application/vnd.jupyter.widget-view+json": {
       "model_id": "5a79d4e0dc6549b9a06c796f2b37c702",
       "version_major": 2,
       "version_minor": 0
      },
      "text/plain": [
       "HBox(children=(IntProgress(value=0, max=51), HTML(value='')))"
      ]
     },
     "metadata": {},
     "output_type": "display_data"
    },
    {
     "name": "stdout",
     "output_type": "stream",
     "text": [
      "\n",
      "train loss: 0.43677668127359126 and train accuracy: 0.8169934644418604\n"
     ]
    },
    {
     "data": {
      "application/vnd.jupyter.widget-view+json": {
       "model_id": "109ab50b13f64beeb019a54c1566518f",
       "version_major": 2,
       "version_minor": 0
      },
      "text/plain": [
       "HBox(children=(IntProgress(value=0, max=14), HTML(value='')))"
      ]
     },
     "metadata": {},
     "output_type": "display_data"
    },
    {
     "name": "stdout",
     "output_type": "stream",
     "text": [
      "\n",
      "val loss: 0.7404839779649462 and val accuracy: 0.5684523816619601\n",
      "saving model on epoch 19\n",
      "Epoch: 20\n"
     ]
    },
    {
     "data": {
      "application/vnd.jupyter.widget-view+json": {
       "model_id": "164090cef3564ef990eede7eb6872a39",
       "version_major": 2,
       "version_minor": 0
      },
      "text/plain": [
       "HBox(children=(IntProgress(value=0, max=51), HTML(value='')))"
      ]
     },
     "metadata": {},
     "output_type": "display_data"
    },
    {
     "name": "stdout",
     "output_type": "stream",
     "text": [
      "\n",
      "train loss: 0.4231025392518324 and train accuracy: 0.8259803921568629\n"
     ]
    },
    {
     "data": {
      "application/vnd.jupyter.widget-view+json": {
       "model_id": "1e50358eea8d4d0c81287536e1580708",
       "version_major": 2,
       "version_minor": 0
      },
      "text/plain": [
       "HBox(children=(IntProgress(value=0, max=14), HTML(value='')))"
      ]
     },
     "metadata": {},
     "output_type": "display_data"
    },
    {
     "name": "stdout",
     "output_type": "stream",
     "text": [
      "\n",
      "val loss: 0.7504663041659764 and val accuracy: 0.6101190490382058\n",
      "saving model on epoch 20\n",
      "Epoch: 21\n"
     ]
    },
    {
     "data": {
      "application/vnd.jupyter.widget-view+json": {
       "model_id": "3f5e0c0e397c4614ba637f4c0a2b1456",
       "version_major": 2,
       "version_minor": 0
      },
      "text/plain": [
       "HBox(children=(IntProgress(value=0, max=51), HTML(value='')))"
      ]
     },
     "metadata": {},
     "output_type": "display_data"
    },
    {
     "name": "stdout",
     "output_type": "stream",
     "text": [
      "\n",
      "train loss: 0.42309235854476107 and train accuracy: 0.8308823529411765\n"
     ]
    },
    {
     "data": {
      "application/vnd.jupyter.widget-view+json": {
       "model_id": "92cbea355d34466f810830f3f83ceebb",
       "version_major": 2,
       "version_minor": 0
      },
      "text/plain": [
       "HBox(children=(IntProgress(value=0, max=14), HTML(value='')))"
      ]
     },
     "metadata": {},
     "output_type": "display_data"
    },
    {
     "name": "stdout",
     "output_type": "stream",
     "text": [
      "\n",
      "val loss: 0.7170951621873037 and val accuracy: 0.6190476204667773\n",
      "saving model on epoch 21\n",
      "Epoch: 22\n"
     ]
    },
    {
     "data": {
      "application/vnd.jupyter.widget-view+json": {
       "model_id": "1752afe4e5ba4fe99e00d479d5dc761f",
       "version_major": 2,
       "version_minor": 0
      },
      "text/plain": [
       "HBox(children=(IntProgress(value=0, max=51), HTML(value='')))"
      ]
     },
     "metadata": {},
     "output_type": "display_data"
    },
    {
     "name": "stdout",
     "output_type": "stream",
     "text": [
      "\n",
      "train loss: 0.4188721545186697 and train accuracy: 0.8267973860104879\n"
     ]
    },
    {
     "data": {
      "application/vnd.jupyter.widget-view+json": {
       "model_id": "3cd57bde451f4247ae85579b2ba00d95",
       "version_major": 2,
       "version_minor": 0
      },
      "text/plain": [
       "HBox(children=(IntProgress(value=0, max=14), HTML(value='')))"
      ]
     },
     "metadata": {},
     "output_type": "display_data"
    },
    {
     "name": "stdout",
     "output_type": "stream",
     "text": [
      "\n",
      "val loss: 0.7595110663345882 and val accuracy: 0.6041666673762458\n",
      "saving model on epoch 22\n",
      "Epoch: 23\n"
     ]
    },
    {
     "data": {
      "application/vnd.jupyter.widget-view+json": {
       "model_id": "72b579aaf88c404dbbcb98a94dc0afc0",
       "version_major": 2,
       "version_minor": 0
      },
      "text/plain": [
       "HBox(children=(IntProgress(value=0, max=51), HTML(value='')))"
      ]
     },
     "metadata": {},
     "output_type": "display_data"
    },
    {
     "name": "stdout",
     "output_type": "stream",
     "text": [
      "\n",
      "train loss: 0.40498795696333345 and train accuracy: 0.8406862745098039\n"
     ]
    },
    {
     "data": {
      "application/vnd.jupyter.widget-view+json": {
       "model_id": "80f1a907fa904c9fadb3af438b4c08f1",
       "version_major": 2,
       "version_minor": 0
      },
      "text/plain": [
       "HBox(children=(IntProgress(value=0, max=14), HTML(value='')))"
      ]
     },
     "metadata": {},
     "output_type": "display_data"
    },
    {
     "name": "stdout",
     "output_type": "stream",
     "text": [
      "\n",
      "val loss: 0.7342416388647897 and val accuracy: 0.6011904776096345\n",
      "saving model on epoch 23\n",
      "Epoch: 24\n"
     ]
    },
    {
     "data": {
      "application/vnd.jupyter.widget-view+json": {
       "model_id": "fa62f00e3b894d75a30cc66e62e86610",
       "version_major": 2,
       "version_minor": 0
      },
      "text/plain": [
       "HBox(children=(IntProgress(value=0, max=51), HTML(value='')))"
      ]
     },
     "metadata": {},
     "output_type": "display_data"
    },
    {
     "name": "stdout",
     "output_type": "stream",
     "text": [
      "\n",
      "train loss: 0.39831383029619855 and train accuracy: 0.8382352941176471\n"
     ]
    },
    {
     "data": {
      "application/vnd.jupyter.widget-view+json": {
       "model_id": "d45f68896e534f7ab4fd6990dea8ffbf",
       "version_major": 2,
       "version_minor": 0
      },
      "text/plain": [
       "HBox(children=(IntProgress(value=0, max=14), HTML(value='')))"
      ]
     },
     "metadata": {},
     "output_type": "display_data"
    },
    {
     "name": "stdout",
     "output_type": "stream",
     "text": [
      "\n",
      "val loss: 0.7454511736120496 and val accuracy: 0.6041666673762458\n",
      "saving model on epoch 24\n",
      "Epoch: 25\n"
     ]
    },
    {
     "data": {
      "application/vnd.jupyter.widget-view+json": {
       "model_id": "c4fd485c922b4047933b35ea0d52dae6",
       "version_major": 2,
       "version_minor": 0
      },
      "text/plain": [
       "HBox(children=(IntProgress(value=0, max=51), HTML(value='')))"
      ]
     },
     "metadata": {},
     "output_type": "display_data"
    },
    {
     "name": "stdout",
     "output_type": "stream",
     "text": [
      "\n",
      "train loss: 0.4000970952066721 and train accuracy: 0.8406862745098039\n"
     ]
    },
    {
     "data": {
      "application/vnd.jupyter.widget-view+json": {
       "model_id": "23d173aae36d4774a13c8d1f68ba92be",
       "version_major": 2,
       "version_minor": 0
      },
      "text/plain": [
       "HBox(children=(IntProgress(value=0, max=14), HTML(value='')))"
      ]
     },
     "metadata": {},
     "output_type": "display_data"
    },
    {
     "name": "stdout",
     "output_type": "stream",
     "text": [
      "\n",
      "val loss: 0.7550033650227955 and val accuracy: 0.6011904776096344\n",
      "saving model on epoch 25\n",
      "Epoch: 26\n"
     ]
    },
    {
     "data": {
      "application/vnd.jupyter.widget-view+json": {
       "model_id": "ffb37fa048a246ed9247025838db3ebe",
       "version_major": 2,
       "version_minor": 0
      },
      "text/plain": [
       "HBox(children=(IntProgress(value=0, max=51), HTML(value='')))"
      ]
     },
     "metadata": {},
     "output_type": "display_data"
    },
    {
     "name": "stdout",
     "output_type": "stream",
     "text": [
      "\n",
      "train loss: 0.3913610487007627 and train accuracy: 0.8464052291477427\n"
     ]
    },
    {
     "data": {
      "application/vnd.jupyter.widget-view+json": {
       "model_id": "04936a222eba4ca78611da99aa7479ca",
       "version_major": 2,
       "version_minor": 0
      },
      "text/plain": [
       "HBox(children=(IntProgress(value=0, max=14), HTML(value='')))"
      ]
     },
     "metadata": {},
     "output_type": "display_data"
    },
    {
     "name": "stdout",
     "output_type": "stream",
     "text": [
      "\n",
      "val loss: 0.7630248069763184 and val accuracy: 0.5863095245191029\n",
      "saving model on epoch 26\n",
      "Epoch: 27\n"
     ]
    },
    {
     "data": {
      "application/vnd.jupyter.widget-view+json": {
       "model_id": "38b4691b449849a78f387e06449336a9",
       "version_major": 2,
       "version_minor": 0
      },
      "text/plain": [
       "HBox(children=(IntProgress(value=0, max=51), HTML(value='')))"
      ]
     },
     "metadata": {},
     "output_type": "display_data"
    },
    {
     "name": "stdout",
     "output_type": "stream",
     "text": [
      "\n",
      "train loss: 0.3901336289503995 and train accuracy: 0.8562091507163703\n"
     ]
    },
    {
     "data": {
      "application/vnd.jupyter.widget-view+json": {
       "model_id": "0a846198353245849e6ef6ec96577d67",
       "version_major": 2,
       "version_minor": 0
      },
      "text/plain": [
       "HBox(children=(IntProgress(value=0, max=14), HTML(value='')))"
      ]
     },
     "metadata": {},
     "output_type": "display_data"
    },
    {
     "name": "stdout",
     "output_type": "stream",
     "text": [
      "\n",
      "val loss: 0.7365163224084037 and val accuracy: 0.6279761918953487\n",
      "saving model on epoch 27\n",
      "Epoch: 28\n"
     ]
    },
    {
     "data": {
      "application/vnd.jupyter.widget-view+json": {
       "model_id": "a3f6030cbdc84b9ea4ecc08f0d883005",
       "version_major": 2,
       "version_minor": 0
      },
      "text/plain": [
       "HBox(children=(IntProgress(value=0, max=51), HTML(value='')))"
      ]
     },
     "metadata": {},
     "output_type": "display_data"
    },
    {
     "name": "stdout",
     "output_type": "stream",
     "text": [
      "\n",
      "train loss: 0.3797091266103819 and train accuracy: 0.8602941176470589\n"
     ]
    },
    {
     "data": {
      "application/vnd.jupyter.widget-view+json": {
       "model_id": "9943bfeab3d2439b9870277a848c83da",
       "version_major": 2,
       "version_minor": 0
      },
      "text/plain": [
       "HBox(children=(IntProgress(value=0, max=14), HTML(value='')))"
      ]
     },
     "metadata": {},
     "output_type": "display_data"
    },
    {
     "name": "stdout",
     "output_type": "stream",
     "text": [
      "\n",
      "val loss: 0.7532480273927961 and val accuracy: 0.6130952388048172\n",
      "saving model on epoch 28\n",
      "Epoch: 29\n"
     ]
    },
    {
     "data": {
      "application/vnd.jupyter.widget-view+json": {
       "model_id": "d0f2cb72861a40f78c5269bce4d07cb7",
       "version_major": 2,
       "version_minor": 0
      },
      "text/plain": [
       "HBox(children=(IntProgress(value=0, max=51), HTML(value='')))"
      ]
     },
     "metadata": {},
     "output_type": "display_data"
    },
    {
     "name": "stdout",
     "output_type": "stream",
     "text": [
      "\n",
      "train loss: 0.37688078512163725 and train accuracy: 0.8774509803921569\n"
     ]
    },
    {
     "data": {
      "application/vnd.jupyter.widget-view+json": {
       "model_id": "9c2cb611dbed43c29a26b61fa9cc4f1e",
       "version_major": 2,
       "version_minor": 0
      },
      "text/plain": [
       "HBox(children=(IntProgress(value=0, max=14), HTML(value='')))"
      ]
     },
     "metadata": {},
     "output_type": "display_data"
    },
    {
     "name": "stdout",
     "output_type": "stream",
     "text": [
      "\n",
      "val loss: 0.7394175827503204 and val accuracy: 0.6428571428571429\n",
      "saving model on epoch 29\n",
      "Epoch: 30\n"
     ]
    },
    {
     "data": {
      "application/vnd.jupyter.widget-view+json": {
       "model_id": "04443cf12a2a477eaa263e16c158d7ea",
       "version_major": 2,
       "version_minor": 0
      },
      "text/plain": [
       "HBox(children=(IntProgress(value=0, max=51), HTML(value='')))"
      ]
     },
     "metadata": {},
     "output_type": "display_data"
    },
    {
     "name": "stdout",
     "output_type": "stream",
     "text": [
      "\n",
      "train loss: 0.36997275887166753 and train accuracy: 0.8700980392156863\n"
     ]
    },
    {
     "data": {
      "application/vnd.jupyter.widget-view+json": {
       "model_id": "21b837b801bd412188dfd01a3ef13009",
       "version_major": 2,
       "version_minor": 0
      },
      "text/plain": [
       "HBox(children=(IntProgress(value=0, max=14), HTML(value='')))"
      ]
     },
     "metadata": {},
     "output_type": "display_data"
    },
    {
     "name": "stdout",
     "output_type": "stream",
     "text": [
      "\n",
      "val loss: 0.7634077114718301 and val accuracy: 0.6101190490382058\n",
      "saving model on epoch 30\n",
      "Epoch: 31\n"
     ]
    },
    {
     "data": {
      "application/vnd.jupyter.widget-view+json": {
       "model_id": "bb67e474ffce4f0b99dee236a5866636",
       "version_major": 2,
       "version_minor": 0
      },
      "text/plain": [
       "HBox(children=(IntProgress(value=0, max=51), HTML(value='')))"
      ]
     },
     "metadata": {},
     "output_type": "display_data"
    },
    {
     "name": "stdout",
     "output_type": "stream",
     "text": [
      "\n",
      "train loss: 0.36628714846629723 and train accuracy: 0.8774509803921569\n"
     ]
    },
    {
     "data": {
      "application/vnd.jupyter.widget-view+json": {
       "model_id": "4c08a74aaa1e4b9997821959f1b192f6",
       "version_major": 2,
       "version_minor": 0
      },
      "text/plain": [
       "HBox(children=(IntProgress(value=0, max=14), HTML(value='')))"
      ]
     },
     "metadata": {},
     "output_type": "display_data"
    },
    {
     "name": "stdout",
     "output_type": "stream",
     "text": [
      "\n",
      "val loss: 0.7672958970069885 and val accuracy: 0.5773809530905315\n",
      "saving model on epoch 31\n",
      "Epoch: 32\n"
     ]
    },
    {
     "data": {
      "application/vnd.jupyter.widget-view+json": {
       "model_id": "ea37dfd991764f38946fa8c5129a86eb",
       "version_major": 2,
       "version_minor": 0
      },
      "text/plain": [
       "HBox(children=(IntProgress(value=0, max=51), HTML(value='')))"
      ]
     },
     "metadata": {},
     "output_type": "display_data"
    },
    {
     "name": "stdout",
     "output_type": "stream",
     "text": [
      "\n",
      "train loss: 0.3598540623982747 and train accuracy: 0.8725490196078431\n"
     ]
    },
    {
     "data": {
      "application/vnd.jupyter.widget-view+json": {
       "model_id": "f32bc99325b0458fa47e650edb921581",
       "version_major": 2,
       "version_minor": 0
      },
      "text/plain": [
       "HBox(children=(IntProgress(value=0, max=14), HTML(value='')))"
      ]
     },
     "metadata": {},
     "output_type": "display_data"
    },
    {
     "name": "stdout",
     "output_type": "stream",
     "text": [
      "\n",
      "val loss: 0.7646846047469548 and val accuracy: 0.6190476204667773\n",
      "saving model on epoch 32\n",
      "Epoch: 33\n"
     ]
    },
    {
     "data": {
      "application/vnd.jupyter.widget-view+json": {
       "model_id": "23660d7de72a443da91d366a4cb49afa",
       "version_major": 2,
       "version_minor": 0
      },
      "text/plain": [
       "HBox(children=(IntProgress(value=0, max=51), HTML(value='')))"
      ]
     },
     "metadata": {},
     "output_type": "display_data"
    },
    {
     "name": "stdout",
     "output_type": "stream",
     "text": [
      "\n",
      "train loss: 0.36101395680623893 and train accuracy: 0.8807189546379388\n"
     ]
    },
    {
     "data": {
      "application/vnd.jupyter.widget-view+json": {
       "model_id": "faefb938045c4193a7c2e53b90badf27",
       "version_major": 2,
       "version_minor": 0
      },
      "text/plain": [
       "HBox(children=(IntProgress(value=0, max=14), HTML(value='')))"
      ]
     },
     "metadata": {},
     "output_type": "display_data"
    },
    {
     "name": "stdout",
     "output_type": "stream",
     "text": [
      "\n",
      "val loss: 0.8082343276057925 and val accuracy: 0.6279761918953487\n",
      "saving model on epoch 33\n",
      "Epoch: 34\n"
     ]
    },
    {
     "data": {
      "application/vnd.jupyter.widget-view+json": {
       "model_id": "8900d4654fc54b91833ce771ff649d34",
       "version_major": 2,
       "version_minor": 0
      },
      "text/plain": [
       "HBox(children=(IntProgress(value=0, max=51), HTML(value='')))"
      ]
     },
     "metadata": {},
     "output_type": "display_data"
    },
    {
     "name": "stdout",
     "output_type": "stream",
     "text": [
      "\n",
      "train loss: 0.35697508880905077 and train accuracy: 0.8602941176470589\n"
     ]
    },
    {
     "data": {
      "application/vnd.jupyter.widget-view+json": {
       "model_id": "4204aa77241a4ab18684ee48bd90b9fe",
       "version_major": 2,
       "version_minor": 0
      },
      "text/plain": [
       "HBox(children=(IntProgress(value=0, max=14), HTML(value='')))"
      ]
     },
     "metadata": {},
     "output_type": "display_data"
    },
    {
     "name": "stdout",
     "output_type": "stream",
     "text": [
      "\n",
      "val loss: 0.7742663770914078 and val accuracy: 0.5803571428571429\n",
      "saving model on epoch 34\n",
      "Epoch: 35\n"
     ]
    },
    {
     "data": {
      "application/vnd.jupyter.widget-view+json": {
       "model_id": "7452915fdc7d42398c2ed643ea905a3a",
       "version_major": 2,
       "version_minor": 0
      },
      "text/plain": [
       "HBox(children=(IntProgress(value=0, max=51), HTML(value='')))"
      ]
     },
     "metadata": {},
     "output_type": "display_data"
    },
    {
     "name": "stdout",
     "output_type": "stream",
     "text": [
      "\n",
      "train loss: 0.34687726228844884 and train accuracy: 0.8774509803921569\n"
     ]
    },
    {
     "data": {
      "application/vnd.jupyter.widget-view+json": {
       "model_id": "cffa874f930844b1b8caef8e9c548e9c",
       "version_major": 2,
       "version_minor": 0
      },
      "text/plain": [
       "HBox(children=(IntProgress(value=0, max=14), HTML(value='')))"
      ]
     },
     "metadata": {},
     "output_type": "display_data"
    },
    {
     "name": "stdout",
     "output_type": "stream",
     "text": [
      "\n",
      "val loss: 0.7623801401683262 and val accuracy: 0.6101190490382058\n",
      "saving model on epoch 35\n",
      "Epoch: 36\n"
     ]
    },
    {
     "data": {
      "application/vnd.jupyter.widget-view+json": {
       "model_id": "3a0fcb459fea47f38def65ad02d89fce",
       "version_major": 2,
       "version_minor": 0
      },
      "text/plain": [
       "HBox(children=(IntProgress(value=0, max=51), HTML(value='')))"
      ]
     },
     "metadata": {},
     "output_type": "display_data"
    },
    {
     "name": "stdout",
     "output_type": "stream",
     "text": [
      "\n",
      "train loss: 0.344928022108826 and train accuracy: 0.8799019607843137\n"
     ]
    },
    {
     "data": {
      "application/vnd.jupyter.widget-view+json": {
       "model_id": "94b9837b0c7e4535ba1689d1ec4d6243",
       "version_major": 2,
       "version_minor": 0
      },
      "text/plain": [
       "HBox(children=(IntProgress(value=0, max=14), HTML(value='')))"
      ]
     },
     "metadata": {},
     "output_type": "display_data"
    },
    {
     "name": "stdout",
     "output_type": "stream",
     "text": [
      "\n",
      "val loss: 0.7678106384617942 and val accuracy: 0.6339285714285714\n",
      "saving model on epoch 36\n",
      "Epoch: 37\n"
     ]
    },
    {
     "data": {
      "application/vnd.jupyter.widget-view+json": {
       "model_id": "61ad186d43b840b4b38c0e8abbf8d922",
       "version_major": 2,
       "version_minor": 0
      },
      "text/plain": [
       "HBox(children=(IntProgress(value=0, max=51), HTML(value='')))"
      ]
     },
     "metadata": {},
     "output_type": "display_data"
    },
    {
     "name": "stdout",
     "output_type": "stream",
     "text": [
      "\n",
      "train loss: 0.3387495235485189 and train accuracy: 0.8872549019607843\n"
     ]
    },
    {
     "data": {
      "application/vnd.jupyter.widget-view+json": {
       "model_id": "f0effa9c200b4a21b62e074643194b96",
       "version_major": 2,
       "version_minor": 0
      },
      "text/plain": [
       "HBox(children=(IntProgress(value=0, max=14), HTML(value='')))"
      ]
     },
     "metadata": {},
     "output_type": "display_data"
    },
    {
     "name": "stdout",
     "output_type": "stream",
     "text": [
      "\n",
      "val loss: 0.771322529230799 and val accuracy: 0.6279761918953487\n",
      "saving model on epoch 37\n",
      "Epoch: 38\n"
     ]
    },
    {
     "data": {
      "application/vnd.jupyter.widget-view+json": {
       "model_id": "811af88695c44c77a3e6423bf9201ca1",
       "version_major": 2,
       "version_minor": 0
      },
      "text/plain": [
       "HBox(children=(IntProgress(value=0, max=51), HTML(value='')))"
      ]
     },
     "metadata": {},
     "output_type": "display_data"
    },
    {
     "name": "stdout",
     "output_type": "stream",
     "text": [
      "\n",
      "train loss: 0.33265933642784756 and train accuracy: 0.8823529411764706\n"
     ]
    },
    {
     "data": {
      "application/vnd.jupyter.widget-view+json": {
       "model_id": "57dfc07bcd934771acd7bf8949f4deb3",
       "version_major": 2,
       "version_minor": 0
      },
      "text/plain": [
       "HBox(children=(IntProgress(value=0, max=14), HTML(value='')))"
      ]
     },
     "metadata": {},
     "output_type": "display_data"
    },
    {
     "name": "stdout",
     "output_type": "stream",
     "text": [
      "\n",
      "val loss: 0.9430727979966572 and val accuracy: 0.6041666673762458\n",
      "saving model on epoch 38\n",
      "Epoch: 39\n"
     ]
    },
    {
     "data": {
      "application/vnd.jupyter.widget-view+json": {
       "model_id": "9440924ea8f94395879e2cead2c5fc24",
       "version_major": 2,
       "version_minor": 0
      },
      "text/plain": [
       "HBox(children=(IntProgress(value=0, max=51), HTML(value='')))"
      ]
     },
     "metadata": {},
     "output_type": "display_data"
    },
    {
     "name": "stdout",
     "output_type": "stream",
     "text": [
      "\n",
      "train loss: 0.33398403782470554 and train accuracy: 0.876633987122891\n"
     ]
    },
    {
     "data": {
      "application/vnd.jupyter.widget-view+json": {
       "model_id": "d1731c720ba940faa79078d7b48989b9",
       "version_major": 2,
       "version_minor": 0
      },
      "text/plain": [
       "HBox(children=(IntProgress(value=0, max=14), HTML(value='')))"
      ]
     },
     "metadata": {},
     "output_type": "display_data"
    },
    {
     "name": "stdout",
     "output_type": "stream",
     "text": [
      "\n",
      "val loss: 0.9988732146365302 and val accuracy: 0.5952380959476743\n",
      "saving model on epoch 39\n",
      "Epoch: 40\n"
     ]
    },
    {
     "data": {
      "application/vnd.jupyter.widget-view+json": {
       "model_id": "fcbe407a290c493ea057036f184243cf",
       "version_major": 2,
       "version_minor": 0
      },
      "text/plain": [
       "HBox(children=(IntProgress(value=0, max=51), HTML(value='')))"
      ]
     },
     "metadata": {},
     "output_type": "display_data"
    },
    {
     "name": "stdout",
     "output_type": "stream",
     "text": [
      "\n",
      "train loss: 0.3235101601948926 and train accuracy: 0.8823529411764706\n"
     ]
    },
    {
     "data": {
      "application/vnd.jupyter.widget-view+json": {
       "model_id": "b7033cc672834edb840c756e6abebfc1",
       "version_major": 2,
       "version_minor": 0
      },
      "text/plain": [
       "HBox(children=(IntProgress(value=0, max=14), HTML(value='')))"
      ]
     },
     "metadata": {},
     "output_type": "display_data"
    },
    {
     "name": "stdout",
     "output_type": "stream",
     "text": [
      "\n",
      "val loss: 0.7696873226336071 and val accuracy: 0.625\n",
      "saving model on epoch 40\n",
      "Epoch: 41\n"
     ]
    },
    {
     "data": {
      "application/vnd.jupyter.widget-view+json": {
       "model_id": "14e17f128e934b5991e434d2f5e268de",
       "version_major": 2,
       "version_minor": 0
      },
      "text/plain": [
       "HBox(children=(IntProgress(value=0, max=51), HTML(value='')))"
      ]
     },
     "metadata": {},
     "output_type": "display_data"
    },
    {
     "name": "stdout",
     "output_type": "stream",
     "text": [
      "\n",
      "train loss: 0.32556211042637906 and train accuracy: 0.8856209154222526\n"
     ]
    },
    {
     "data": {
      "application/vnd.jupyter.widget-view+json": {
       "model_id": "2ab99caa48264b9e986fe721e3ab622f",
       "version_major": 2,
       "version_minor": 0
      },
      "text/plain": [
       "HBox(children=(IntProgress(value=0, max=14), HTML(value='')))"
      ]
     },
     "metadata": {},
     "output_type": "display_data"
    },
    {
     "name": "stdout",
     "output_type": "stream",
     "text": [
      "\n",
      "val loss: 0.7993828356266022 and val accuracy: 0.6279761918953487\n",
      "saving model on epoch 41\n",
      "Epoch: 42\n"
     ]
    },
    {
     "data": {
      "application/vnd.jupyter.widget-view+json": {
       "model_id": "a0e77e661bac40e98e0bf0a42c032e83",
       "version_major": 2,
       "version_minor": 0
      },
      "text/plain": [
       "HBox(children=(IntProgress(value=0, max=51), HTML(value='')))"
      ]
     },
     "metadata": {},
     "output_type": "display_data"
    },
    {
     "name": "stdout",
     "output_type": "stream",
     "text": [
      "\n",
      "train loss: 0.32548125380394505 and train accuracy: 0.8856209154222526\n"
     ]
    },
    {
     "data": {
      "application/vnd.jupyter.widget-view+json": {
       "model_id": "6da2feb4b5e74d4badea68ef38d0a8cf",
       "version_major": 2,
       "version_minor": 0
      },
      "text/plain": [
       "HBox(children=(IntProgress(value=0, max=14), HTML(value='')))"
      ]
     },
     "metadata": {},
     "output_type": "display_data"
    },
    {
     "name": "stdout",
     "output_type": "stream",
     "text": [
      "\n",
      "val loss: 0.7812232843467168 and val accuracy: 0.6279761918953487\n",
      "saving model on epoch 42\n",
      "Epoch: 43\n"
     ]
    },
    {
     "data": {
      "application/vnd.jupyter.widget-view+json": {
       "model_id": "5dc0b05b58b84714a44cdd84ac62a53c",
       "version_major": 2,
       "version_minor": 0
      },
      "text/plain": [
       "HBox(children=(IntProgress(value=0, max=51), HTML(value='')))"
      ]
     },
     "metadata": {},
     "output_type": "display_data"
    },
    {
     "name": "stdout",
     "output_type": "stream",
     "text": [
      "\n",
      "train loss: 0.3159369209817812 and train accuracy: 0.8929738565987232\n"
     ]
    },
    {
     "data": {
      "application/vnd.jupyter.widget-view+json": {
       "model_id": "6064e4c6e65d4a128f612b4454e50ee7",
       "version_major": 2,
       "version_minor": 0
      },
      "text/plain": [
       "HBox(children=(IntProgress(value=0, max=14), HTML(value='')))"
      ]
     },
     "metadata": {},
     "output_type": "display_data"
    },
    {
     "name": "stdout",
     "output_type": "stream",
     "text": [
      "\n",
      "val loss: 0.7896734029054642 and val accuracy: 0.6279761918953487\n",
      "saving model on epoch 43\n",
      "Epoch: 44\n"
     ]
    },
    {
     "data": {
      "application/vnd.jupyter.widget-view+json": {
       "model_id": "8bc65fa171e74032a21e774797d484b2",
       "version_major": 2,
       "version_minor": 0
      },
      "text/plain": [
       "HBox(children=(IntProgress(value=0, max=51), HTML(value='')))"
      ]
     },
     "metadata": {},
     "output_type": "display_data"
    },
    {
     "name": "stdout",
     "output_type": "stream",
     "text": [
      "\n",
      "train loss: 0.3156512943552991 and train accuracy: 0.8897058823529411\n"
     ]
    },
    {
     "data": {
      "application/vnd.jupyter.widget-view+json": {
       "model_id": "ed8f4bfc2b7e405cb9bffd064b122f33",
       "version_major": 2,
       "version_minor": 0
      },
      "text/plain": [
       "HBox(children=(IntProgress(value=0, max=14), HTML(value='')))"
      ]
     },
     "metadata": {},
     "output_type": "display_data"
    },
    {
     "name": "stdout",
     "output_type": "stream",
     "text": [
      "\n",
      "val loss: 0.7800356234822955 and val accuracy: 0.6428571428571429\n",
      "saving model on epoch 44\n",
      "Epoch: 45\n"
     ]
    },
    {
     "data": {
      "application/vnd.jupyter.widget-view+json": {
       "model_id": "13b293ff5eab4678962bc091d70e5de1",
       "version_major": 2,
       "version_minor": 0
      },
      "text/plain": [
       "HBox(children=(IntProgress(value=0, max=51), HTML(value='')))"
      ]
     },
     "metadata": {},
     "output_type": "display_data"
    },
    {
     "name": "stdout",
     "output_type": "stream",
     "text": [
      "\n",
      "train loss: 0.30991615647194415 and train accuracy: 0.8946078431372549\n"
     ]
    },
    {
     "data": {
      "application/vnd.jupyter.widget-view+json": {
       "model_id": "8c6bb67b3b0b490b94c6c709121bca53",
       "version_major": 2,
       "version_minor": 0
      },
      "text/plain": [
       "HBox(children=(IntProgress(value=0, max=14), HTML(value='')))"
      ]
     },
     "metadata": {},
     "output_type": "display_data"
    },
    {
     "name": "stdout",
     "output_type": "stream",
     "text": [
      "\n",
      "val loss: 0.8198675853865487 and val accuracy: 0.6190476204667773\n",
      "saving model on epoch 45\n",
      "Epoch: 46\n"
     ]
    },
    {
     "data": {
      "application/vnd.jupyter.widget-view+json": {
       "model_id": "e914290173f84d819ca6a9d41f39e887",
       "version_major": 2,
       "version_minor": 0
      },
      "text/plain": [
       "HBox(children=(IntProgress(value=0, max=51), HTML(value='')))"
      ]
     },
     "metadata": {},
     "output_type": "display_data"
    },
    {
     "name": "stdout",
     "output_type": "stream",
     "text": [
      "\n",
      "train loss: 0.3075314468028498 and train accuracy: 0.8880718958144095\n"
     ]
    },
    {
     "data": {
      "application/vnd.jupyter.widget-view+json": {
       "model_id": "f661553b5fbf414d9b25e763cad5e9b4",
       "version_major": 2,
       "version_minor": 0
      },
      "text/plain": [
       "HBox(children=(IntProgress(value=0, max=14), HTML(value='')))"
      ]
     },
     "metadata": {},
     "output_type": "display_data"
    },
    {
     "name": "stdout",
     "output_type": "stream",
     "text": [
      "\n",
      "val loss: 0.8212849753243583 and val accuracy: 0.5952380959476743\n",
      "saving model on epoch 46\n",
      "Epoch: 47\n"
     ]
    },
    {
     "data": {
      "application/vnd.jupyter.widget-view+json": {
       "model_id": "0628518b9e3f40c4a9dac0935a087616",
       "version_major": 2,
       "version_minor": 0
      },
      "text/plain": [
       "HBox(children=(IntProgress(value=0, max=51), HTML(value='')))"
      ]
     },
     "metadata": {},
     "output_type": "display_data"
    },
    {
     "name": "stdout",
     "output_type": "stream",
     "text": [
      "\n",
      "train loss: 0.30283850168480597 and train accuracy: 0.8970588235294118\n"
     ]
    },
    {
     "data": {
      "application/vnd.jupyter.widget-view+json": {
       "model_id": "f0388c0a0c704cf4b82222a7dbd7ef22",
       "version_major": 2,
       "version_minor": 0
      },
      "text/plain": [
       "HBox(children=(IntProgress(value=0, max=14), HTML(value='')))"
      ]
     },
     "metadata": {},
     "output_type": "display_data"
    },
    {
     "name": "stdout",
     "output_type": "stream",
     "text": [
      "\n",
      "val loss: 0.8110545426607132 and val accuracy: 0.6190476204667773\n",
      "saving model on epoch 47\n",
      "Epoch: 48\n"
     ]
    },
    {
     "data": {
      "application/vnd.jupyter.widget-view+json": {
       "model_id": "436d846206794fcca3132b9739c8487e",
       "version_major": 2,
       "version_minor": 0
      },
      "text/plain": [
       "HBox(children=(IntProgress(value=0, max=51), HTML(value='')))"
      ]
     },
     "metadata": {},
     "output_type": "display_data"
    },
    {
     "name": "stdout",
     "output_type": "stream",
     "text": [
      "\n",
      "train loss: 0.30150347305279157 and train accuracy: 0.8978758173830369\n"
     ]
    },
    {
     "data": {
      "application/vnd.jupyter.widget-view+json": {
       "model_id": "692a7c6498904d1a86b78baf3d7d1bcf",
       "version_major": 2,
       "version_minor": 0
      },
      "text/plain": [
       "HBox(children=(IntProgress(value=0, max=14), HTML(value='')))"
      ]
     },
     "metadata": {},
     "output_type": "display_data"
    },
    {
     "name": "stdout",
     "output_type": "stream",
     "text": [
      "\n",
      "val loss: 0.8433228092534202 and val accuracy: 0.6220238102333886\n",
      "saving model on epoch 48\n",
      "Epoch: 49\n"
     ]
    },
    {
     "data": {
      "application/vnd.jupyter.widget-view+json": {
       "model_id": "58baca702f394256937c14a5e9a6a95b",
       "version_major": 2,
       "version_minor": 0
      },
      "text/plain": [
       "HBox(children=(IntProgress(value=0, max=51), HTML(value='')))"
      ]
     },
     "metadata": {},
     "output_type": "display_data"
    },
    {
     "name": "stdout",
     "output_type": "stream",
     "text": [
      "\n",
      "train loss: 0.29286970402680196 and train accuracy: 0.8970588235294118\n"
     ]
    },
    {
     "data": {
      "application/vnd.jupyter.widget-view+json": {
       "model_id": "49074ae93ec9418bbeadfee30ba3135d",
       "version_major": 2,
       "version_minor": 0
      },
      "text/plain": [
       "HBox(children=(IntProgress(value=0, max=14), HTML(value='')))"
      ]
     },
     "metadata": {},
     "output_type": "display_data"
    },
    {
     "name": "stdout",
     "output_type": "stream",
     "text": [
      "\n",
      "val loss: 0.8359351179429463 and val accuracy: 0.5952380959476743\n",
      "saving model on epoch 49\n"
     ]
    }
   ],
   "source": [
    "if 2 in active_steps:\n",
    "    max_val_acc = 0\n",
    "    for epoch in range(attack_epochs):\n",
    "        # run train and val epochs\n",
    "        print(\"Epoch: {}\".format(epoch))\n",
    "        attack_network.train()\n",
    "        train_loss, train_acc = perform_attack_training(attack_network, attack_train_dataloader, attack_optimizer)\n",
    "        writer.add_scalar('attack_training loss', train_loss, epoch)\n",
    "        writer.add_scalar('attack_training accuracy', train_acc, epoch)\n",
    "        attack_network.eval()\n",
    "        val_loss, val_acc = perform_attack_validation(attack_network, attack_val_dataloader)\n",
    "        writer.add_scalar('attack_validation loss', val_loss, epoch)\n",
    "        writer.add_scalar('attack_validation accuracy', val_acc, epoch)\n",
    "        if val_acc > max_val_acc:\n",
    "            print(\"saving model on epoch {}\".format(epoch))\n",
    "            torch.save(attack_network.state_dict(), \"models/exp3_best_attack_model.pt\")\n",
    "    writer.close()\n",
    "    torch.save(attack_network.state_dict(), \"models/exp3_final_attack_model.pt\")"
   ]
  },
  {
   "cell_type": "code",
   "execution_count": null,
   "metadata": {},
   "outputs": [],
   "source": []
  },
  {
   "cell_type": "markdown",
   "metadata": {},
   "source": [
    "## Exit here ##"
   ]
  },
  {
   "cell_type": "code",
   "execution_count": 21,
   "metadata": {},
   "outputs": [
    {
     "ename": "SystemExit",
     "evalue": "Stop right there!",
     "output_type": "error",
     "traceback": [
      "An exception has occurred, use %tb to see the full traceback.\n",
      "\u001b[0;31mSystemExit\u001b[0m\u001b[0;31m:\u001b[0m Stop right there!\n"
     ]
    },
    {
     "name": "stderr",
     "output_type": "stream",
     "text": [
      "/home/sattvik/envs/pytorch_env/lib/python3.6/site-packages/IPython/core/interactiveshell.py:3334: UserWarning: To exit: use 'exit', 'quit', or Ctrl-D.\n",
      "  warn(\"To exit: use 'exit', 'quit', or Ctrl-D.\", stacklevel=1)\n"
     ]
    }
   ],
   "source": [
    "raise SystemExit(\"Stop right there!\")"
   ]
  },
  {
   "cell_type": "markdown",
   "metadata": {},
   "source": [
    "## Define Model ##"
   ]
  },
  {
   "cell_type": "code",
   "execution_count": null,
   "metadata": {},
   "outputs": [],
   "source": [
    "class ResNet(nn.Module):\n",
    "    def __init__(self):\n",
    "        super(ResNet, self).__init__()\n",
    "        self.rnet = torch.hub.load('pytorch/vision:v0.5.0', 'resnet50', pretrained=True)\n",
    "        self.rnet.fc = nn.Linear(2048, 1)\n",
    "        \n",
    "        for p in self.parameters():\n",
    "            p.requires_grad = False\n",
    "\n",
    "        for p in self.rnet.fc.parameters():\n",
    "            p.requires_grad = True\n",
    "\n",
    "    def forward(self, x):\n",
    "        x = torch.sigmoid(self.rnet(x))\n",
    "        return x\n",
    "    \n",
    "    def unfreeze_layer4(self):\n",
    "        for p in self.rnet.layer4.parameters():\n",
    "            p.requires_grad = True\n",
    "\n",
    "    def unfreeze_layer3(self):\n",
    "        for p in self.rnet.layer3.parameters():\n",
    "            p.requires_grad = True\n",
    "\n",
    "    def unfreeze_layer2(self):\n",
    "        for p in self.rnet.layer2.parameters():\n",
    "            p.requires_grad = True\n",
    "\n",
    "    def unfreeze_layer1(self):\n",
    "        for p in self.rnet.layer1.parameters():\n",
    "            p.requires_grad = True\n",
    "\n",
    "def define_model():\n",
    "    return ResNet()"
   ]
  },
  {
   "cell_type": "markdown",
   "metadata": {},
   "source": [
    "## Training, Validation, and Evaluation functions ##"
   ]
  },
  {
   "cell_type": "code",
   "execution_count": null,
   "metadata": {},
   "outputs": [],
   "source": [
    "def perform_evaluation(val_model, dataloader):\n",
    "    with torch.no_grad():\n",
    "        epoch_loss = 0\n",
    "        epoch_accuracy = 0\n",
    "        for batch_idx, (data, target) in tqdm_notebook(enumerate(dataloader), total=len(dataloader)):\n",
    "            # move data batch to GPU\n",
    "            data = data.cuda()\n",
    "            target = target.cuda()\n",
    "            # forward pass\n",
    "            output = val_model(data)\n",
    "            loss = F.binary_cross_entropy(output, target.unsqueeze(1))\n",
    "            # compute average loss an accuracy\n",
    "            output = output.to('cpu')\n",
    "            target = target.to('cpu')\n",
    "            current_acc = torch.tensor(((output>0.5)== torch.tensor(target.unsqueeze(1), dtype=torch.bool)).sum(), dtype=torch.float)/torch.tensor(len(target), dtype=torch.float)\n",
    "            epoch_loss = ((epoch_loss*batch_idx) + loss.item())/(batch_idx+1)\n",
    "            epoch_accuracy = ((epoch_accuracy*batch_idx) + current_acc.item())/(batch_idx+1)\n",
    "    print(\"testing loss: {} and testing accuracy: {}\".format(epoch_loss, epoch_accuracy))\n",
    "    return epoch_loss, epoch_accuracy"
   ]
  },
  {
   "cell_type": "code",
   "execution_count": null,
   "metadata": {},
   "outputs": [],
   "source": [
    "def perform_validation(val_model, dataloader):\n",
    "    with torch.no_grad():\n",
    "        epoch_loss = 0\n",
    "        epoch_accuracy = 0\n",
    "        for batch_idx, (data, target) in tqdm_notebook(enumerate(dataloader), total=len(dataloader)):\n",
    "            # move data batch to GPU\n",
    "            data = data.cuda()\n",
    "            target = target.cuda()\n",
    "            # forward pass\n",
    "            output = val_model(data)\n",
    "#             print(output, target.unsqueeze(1))\n",
    "            loss = F.binary_cross_entropy(output, target.unsqueeze(1))\n",
    "            # compute average loss an accuracy\n",
    "            output = output.to('cpu')\n",
    "            target = target.to('cpu')\n",
    "            current_acc = torch.tensor(((output>0.5)== torch.tensor(target.unsqueeze(1), dtype=torch.bool)).sum(), dtype=torch.float)/torch.tensor(len(target), dtype=torch.float)\n",
    "            epoch_loss = ((epoch_loss*batch_idx) + loss.item())/(batch_idx+1)\n",
    "            epoch_accuracy = ((epoch_accuracy*batch_idx) + current_acc.item())/(batch_idx+1)\n",
    "    print(\"val loss: {} and val accuracy: {}\".format(epoch_loss, epoch_accuracy))\n",
    "    return epoch_loss, epoch_accuracy"
   ]
  },
  {
   "cell_type": "code",
   "execution_count": null,
   "metadata": {},
   "outputs": [],
   "source": [
    "def perform_training(val_model, dataloader, optimizer):\n",
    "    epoch_loss = 0\n",
    "    epoch_accuracy = 0\n",
    "    for batch_idx, (data, target) in tqdm_notebook(enumerate(dataloader), total=len(dataloader)):\n",
    "        # move data batch to GPU\n",
    "        data = data.cuda()\n",
    "        target = target.cuda()\n",
    "        # zero the parameter gradients\n",
    "        optimizer.zero_grad()\n",
    "        # forward pass\n",
    "        output = val_model(data)\n",
    "        loss = F.binary_cross_entropy(output, target.unsqueeze(1))\n",
    "        # backward pass\n",
    "        loss.backward()\n",
    "        optimizer.step()\n",
    "        # compute average loss an accuracy\n",
    "        output = output.to('cpu')\n",
    "        target = target.to('cpu')\n",
    "        current_acc = torch.tensor(((output>0.5)== torch.tensor(target.unsqueeze(1), dtype=torch.bool)).sum(), dtype=torch.float)/torch.tensor(len(target), dtype=torch.float)\n",
    "        epoch_loss = ((epoch_loss*batch_idx) + loss.item())/(batch_idx+1)\n",
    "        epoch_accuracy = ((epoch_accuracy*batch_idx) + current_acc.item())/(batch_idx+1)\n",
    "    print(\"train loss: {} and train accuracy: {}\".format(epoch_loss, epoch_accuracy))\n",
    "    return epoch_loss, epoch_accuracy"
   ]
  },
  {
   "cell_type": "markdown",
   "metadata": {},
   "source": [
    "## Declare genuine worker ##"
   ]
  },
  {
   "cell_type": "code",
   "execution_count": null,
   "metadata": {},
   "outputs": [],
   "source": [
    "class target_worker(worker.base_workerclass):\n",
    "    def __init__(self, name, attributes_df, model):\n",
    "        super().__init__(name, False)\n",
    "        self.worker_attributes_df = attributes_df[attributes_df['target']==1]\n",
    "        print(\"initializing genuine worker node with \",len(self.worker_attributes_df),\" data points\")\n",
    "        self.model = model\n",
    "        self.local_iters = local_iterations\n",
    "        # train val split\n",
    "        all_names = self.worker_attributes_df.person.unique()\n",
    "        tt_msk = np.random.rand(len(all_names)) < 0.8\n",
    "        train_names = all_names[tt_msk]\n",
    "        val_names = all_names[~tt_msk]\n",
    "        del all_names, tt_msk\n",
    "        \n",
    "        # set optimizer\n",
    "        self.set_optim()\n",
    "        # create train val and test dataframes\n",
    "        train_df = self.worker_attributes_df.loc[self.worker_attributes_df['person'].isin(train_names)]\n",
    "        val_df = self.worker_attributes_df.loc[self.worker_attributes_df['person'].isin(val_names)]\n",
    "        \n",
    "        train_dataset = LFWDataset(data_path, train_df, transform=transforms.Compose([\n",
    "                                                    transforms.RandomResizedCrop(224),\n",
    "                                                    transforms.RandomHorizontalFlip(),\n",
    "                                                    transforms.ToTensor()\n",
    "                                                    ]))\n",
    "        val_dataset = LFWDataset(data_path, val_df, transform=transforms.Compose([\n",
    "                                                            transforms.RandomResizedCrop(224),\n",
    "                                                            transforms.RandomHorizontalFlip(),\n",
    "                                                            transforms.ToTensor()]))\n",
    "        del train_df, val_df\n",
    "        \n",
    "        self.train_dataloader = DataLoader(train_dataset, batch_size=batch_size, shuffle=True, num_workers=num_workers)\n",
    "        self.val_dataloader = DataLoader(val_dataset, batch_size=batch_size, shuffle=True, num_workers=num_workers)\n",
    "        print(len(self.train_dataloader), len(self.val_dataloader))\n",
    "    \n",
    "    def set_param(self, w):\n",
    "        self.model.load_state_dict(w)\n",
    "    \n",
    "    def get_params(self):\n",
    "        return self.model.state_dict()\n",
    "    \n",
    "    def set_optim(self):\n",
    "        self.optim = optim.Adam(self.model.parameters(), lr=learning_rate)\n",
    "    \n",
    "    def client_update(self, global_epoch):\n",
    "        global writer\n",
    "        self.model = self.model.cuda()\n",
    "        prev_w = copy.deepcopy(self.model.state_dict())\n",
    "        # unfreeze layers\n",
    "        if 5 == global_epoch:\n",
    "            self.model.unfreeze_layer3()\n",
    "        if 20 == global_epoch:\n",
    "            self.model.unfreeze_layer2()\n",
    "        if 50 == global_epoch:\n",
    "            self.model.unfreeze_layer1()\n",
    "        for epoch in range(self.local_iters):\n",
    "            # run train and val epochs\n",
    "            print(\"sub-epoch: {}\".format(epoch))\n",
    "            self.model.train()\n",
    "            train_loss, train_acc = perform_training(self.model, self.train_dataloader, self.optim)\n",
    "            writer.add_scalar('training loss_'+self.name, train_loss, (global_epoch*self.local_iters)+epoch)\n",
    "            writer.add_scalar('training accuracy_'+self.name, train_acc, (global_epoch*self.local_iters)+epoch)\n",
    "            self.model.eval()\n",
    "            val_loss, val_acc = perform_validation(self.model, self.val_dataloader)\n",
    "            writer.add_scalar('validation loss_'+self.name, val_loss, (global_epoch*self.local_iters)+epoch)\n",
    "            writer.add_scalar('validation accuracy_'+self.name, val_acc, (global_epoch*self.local_iters)+epoch)\n",
    "        graddif = OrderedDict()\n",
    "        for (item1, item2) in zip(self.model.state_dict().items(),prev_w.items()):\n",
    "            key1=item1[0]\n",
    "            value1=item1[1]\n",
    "            key2=item2[0]\n",
    "            value2=item2[1]\n",
    "            diffval = value1-value2\n",
    "            graddif.update({key1:diffval.cpu()})\n",
    "        self.model = self.model.cpu()\n",
    "        return graddif"
   ]
  },
  {
   "cell_type": "markdown",
   "metadata": {},
   "source": [
    "## Declare malicious worker ##"
   ]
  },
  {
   "cell_type": "code",
   "execution_count": null,
   "metadata": {},
   "outputs": [],
   "source": [
    "# class malicious_worker(worker.base_workerclass):\n",
    "#     def __init__(self, attributes_df, model):\n",
    "#         super().__init__(True)\n",
    "#         self.worker_attributes_df = attributes_df[attributes_df['target']==0]\n",
    "#         print(\"initializing malicious worker node with \",len(self.worker_attributes_df),\" data points\")\n",
    "#         self.model = model\n",
    "#         self.local_iters = 5\n",
    "    \n",
    "#     def set_param(self, w):\n",
    "#         self.model.load_state_dict(w)\n",
    "    \n",
    "#     def set_optim(self):\n",
    "#         self.optim = optim.Adam(self.model.parameters(), lr=learning_rate)\n",
    "    \n",
    "#     def client_update(self):\n",
    "#         print('ss')"
   ]
  },
  {
   "cell_type": "markdown",
   "metadata": {},
   "source": [
    "## Initialize components of our simulations ##"
   ]
  },
  {
   "cell_type": "code",
   "execution_count": null,
   "metadata": {},
   "outputs": [],
   "source": [
    "server1 = server.server(server_learning_rate)\n",
    "workers = wh.workerhandler([target_worker(\"w1\", train_val_df,define_model()),target_worker(\"w2\", train_val_df,define_model())])"
   ]
  },
  {
   "cell_type": "code",
   "execution_count": null,
   "metadata": {},
   "outputs": [],
   "source": [
    "tm = tu.topology_manager()"
   ]
  },
  {
   "cell_type": "markdown",
   "metadata": {},
   "source": [
    "## Define network topology ##"
   ]
  },
  {
   "cell_type": "code",
   "execution_count": null,
   "metadata": {},
   "outputs": [],
   "source": [
    "tm.connect_star(server1, workers.get_all_workers())"
   ]
  },
  {
   "cell_type": "code",
   "execution_count": null,
   "metadata": {},
   "outputs": [],
   "source": [
    "plot = tm.plot_topology()"
   ]
  },
  {
   "cell_type": "markdown",
   "metadata": {},
   "source": [
    "## Start Training ##"
   ]
  },
  {
   "cell_type": "code",
   "execution_count": null,
   "metadata": {},
   "outputs": [],
   "source": [
    "# initialize server weights as model average\n",
    "server1.set_init_weights(workers.get_average_weights())\n",
    "\n",
    "# start training\n",
    "for epoch in range(epochs):\n",
    "    print(\"Epoch: \", epoch)\n",
    "    new_grad = workers.perform_updates(epoch)\n",
    "    new_w = server1.aggregate(new_grad)\n",
    "    workers.set_param(new_w)"
   ]
  },
  {
   "cell_type": "markdown",
   "metadata": {},
   "source": [
    "## Evaluate Model ##"
   ]
  },
  {
   "cell_type": "code",
   "execution_count": null,
   "metadata": {},
   "outputs": [],
   "source": [
    "# evaluate final model\n",
    "eval_model = define_model()\n",
    "eval_model.load_state_dict(new_w)\n",
    "eval_model.eval()\n",
    "eval_model = eval_model.cuda()\n",
    "torch.save(eval_model.state_dict(), \"models/experiment2_model.pt\")\n",
    "\n",
    "test_dataset = LFWDataset(data_path, test_df, transform=transforms.Compose([\n",
    "                                                    transforms.RandomResizedCrop(224),\n",
    "                                                    transforms.RandomHorizontalFlip(),\n",
    "                                                    transforms.ToTensor()\n",
    "                                                    ]))\n",
    "test_dataloader = DataLoader(test_dataset, batch_size=batch_size, shuffle=True, num_workers=num_workers)\n",
    "\n",
    "test_loss, test_acc = perform_evaluation(eval_model, test_dataloader)"
   ]
  },
  {
   "cell_type": "code",
   "execution_count": null,
   "metadata": {},
   "outputs": [],
   "source": []
  }
 ],
 "metadata": {
  "kernelspec": {
   "display_name": "Python 3",
   "language": "python",
   "name": "python3"
  },
  "language_info": {
   "codemirror_mode": {
    "name": "ipython",
    "version": 3
   },
   "file_extension": ".py",
   "mimetype": "text/x-python",
   "name": "python",
   "nbconvert_exporter": "python",
   "pygments_lexer": "ipython3",
   "version": "3.6.9"
  }
 },
 "nbformat": 4,
 "nbformat_minor": 2
}
